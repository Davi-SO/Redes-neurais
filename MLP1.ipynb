{
 "cells": [
  {
   "cell_type": "code",
   "execution_count": 1,
   "id": "9bfd3e1f-45b3-4bce-8db0-4683673ee2df",
   "metadata": {},
   "outputs": [],
   "source": [
    "from ucimlrepo import fetch_ucirepo\n",
    "import pandas as pd\n",
    "from sklearn.model_selection import train_test_split, GridSearchCV\n",
    "from sklearn.preprocessing import StandardScaler, LabelEncoder\n",
    "from sklearn.neural_network import MLPClassifier\n",
    "from sklearn.metrics import classification_report, confusion_matrix, accuracy_score\n",
    "import matplotlib.pyplot as plt\n",
    "from sklearn.neighbors import KNeighborsClassifier\n"
   ]
  },
  {
   "cell_type": "code",
   "execution_count": 2,
   "id": "7bc9217a-9973-423c-9351-4ee0396c5d53",
   "metadata": {},
   "outputs": [],
   "source": [
    "data = fetch_ucirepo(id=468)\n",
    "\n",
    "X = pd.DataFrame(data.data.features)\n",
    "y = pd.Series(data.data.targets.values.ravel(), name='Revenue')\n",
    "\n",
    "#codificação de variáveis categóricas\n",
    "\n",
    "X_encoded = X.copy()\n",
    "for col in X.select_dtypes(include=['object']).columns:\n",
    "    le = LabelEncoder()\n",
    "    X_encoded[col] = le.fit_transform(X[col])\n",
    "\n",
    "#divisão dos dados - 80/20\n",
    "X_train, X_test, y_train, y_test = train_test_split(X_encoded, y, test_size=0.2, random_state=42, stratify=y)\n",
    "\n",
    "#normalização dos dados\n",
    "\n",
    "scaler = StandardScaler()\n",
    "X_train = scaler.fit_transform(X_train)\n",
    "X_test = scaler.transform(X_test)"
   ]
  },
  {
   "cell_type": "code",
   "execution_count": 3,
   "id": "dca149b9-1955-4c59-9d88-0a9cbe314439",
   "metadata": {},
   "outputs": [
    {
     "name": "stdout",
     "output_type": "stream",
     "text": [
      "Fitting 3 folds for each of 24 candidates, totalling 72 fits\n",
      "[CV 1/3] END activation=relu, alpha=0.01, hidden_layer_sizes=(100, 150), learning_rate_init=0.001, max_iter=500, solver=adam;, score=0.879 total time=  16.2s\n",
      "[CV 2/3] END activation=relu, alpha=0.01, hidden_layer_sizes=(100, 150), learning_rate_init=0.001, max_iter=500, solver=adam;, score=0.880 total time=  14.3s\n",
      "[CV 3/3] END activation=relu, alpha=0.01, hidden_layer_sizes=(100, 150), learning_rate_init=0.001, max_iter=500, solver=adam;, score=0.869 total time=  17.7s\n"
     ]
    },
    {
     "name": "stderr",
     "output_type": "stream",
     "text": [
      "c:\\Users\\Tiago\\AppData\\Local\\Programs\\Python\\Python313\\Lib\\site-packages\\sklearn\\neural_network\\_multilayer_perceptron.py:691: ConvergenceWarning: Stochastic Optimizer: Maximum iterations (500) reached and the optimization hasn't converged yet.\n",
      "  warnings.warn(\n"
     ]
    },
    {
     "name": "stdout",
     "output_type": "stream",
     "text": [
      "[CV 1/3] END activation=relu, alpha=0.01, hidden_layer_sizes=(100, 150), learning_rate_init=0.0001, max_iter=500, solver=adam;, score=0.892 total time=  28.9s\n"
     ]
    },
    {
     "name": "stderr",
     "output_type": "stream",
     "text": [
      "c:\\Users\\Tiago\\AppData\\Local\\Programs\\Python\\Python313\\Lib\\site-packages\\sklearn\\neural_network\\_multilayer_perceptron.py:691: ConvergenceWarning: Stochastic Optimizer: Maximum iterations (500) reached and the optimization hasn't converged yet.\n",
      "  warnings.warn(\n"
     ]
    },
    {
     "name": "stdout",
     "output_type": "stream",
     "text": [
      "[CV 2/3] END activation=relu, alpha=0.01, hidden_layer_sizes=(100, 150), learning_rate_init=0.0001, max_iter=500, solver=adam;, score=0.897 total time=  31.0s\n"
     ]
    },
    {
     "name": "stderr",
     "output_type": "stream",
     "text": [
      "c:\\Users\\Tiago\\AppData\\Local\\Programs\\Python\\Python313\\Lib\\site-packages\\sklearn\\neural_network\\_multilayer_perceptron.py:691: ConvergenceWarning: Stochastic Optimizer: Maximum iterations (500) reached and the optimization hasn't converged yet.\n",
      "  warnings.warn(\n"
     ]
    },
    {
     "name": "stdout",
     "output_type": "stream",
     "text": [
      "[CV 3/3] END activation=relu, alpha=0.01, hidden_layer_sizes=(100, 150), learning_rate_init=0.0001, max_iter=500, solver=adam;, score=0.888 total time=  31.0s\n",
      "[CV 1/3] END activation=relu, alpha=0.01, hidden_layer_sizes=(50, 100), learning_rate_init=0.001, max_iter=500, solver=adam;, score=0.879 total time=  19.8s\n",
      "[CV 2/3] END activation=relu, alpha=0.01, hidden_layer_sizes=(50, 100), learning_rate_init=0.001, max_iter=500, solver=adam;, score=0.866 total time=  17.6s\n",
      "[CV 3/3] END activation=relu, alpha=0.01, hidden_layer_sizes=(50, 100), learning_rate_init=0.001, max_iter=500, solver=adam;, score=0.865 total time=  17.9s\n"
     ]
    },
    {
     "name": "stderr",
     "output_type": "stream",
     "text": [
      "c:\\Users\\Tiago\\AppData\\Local\\Programs\\Python\\Python313\\Lib\\site-packages\\sklearn\\neural_network\\_multilayer_perceptron.py:691: ConvergenceWarning: Stochastic Optimizer: Maximum iterations (500) reached and the optimization hasn't converged yet.\n",
      "  warnings.warn(\n"
     ]
    },
    {
     "name": "stdout",
     "output_type": "stream",
     "text": [
      "[CV 1/3] END activation=relu, alpha=0.01, hidden_layer_sizes=(50, 100), learning_rate_init=0.0001, max_iter=500, solver=adam;, score=0.896 total time=  20.1s\n"
     ]
    },
    {
     "name": "stderr",
     "output_type": "stream",
     "text": [
      "c:\\Users\\Tiago\\AppData\\Local\\Programs\\Python\\Python313\\Lib\\site-packages\\sklearn\\neural_network\\_multilayer_perceptron.py:691: ConvergenceWarning: Stochastic Optimizer: Maximum iterations (500) reached and the optimization hasn't converged yet.\n",
      "  warnings.warn(\n"
     ]
    },
    {
     "name": "stdout",
     "output_type": "stream",
     "text": [
      "[CV 2/3] END activation=relu, alpha=0.01, hidden_layer_sizes=(50, 100), learning_rate_init=0.0001, max_iter=500, solver=adam;, score=0.894 total time=  19.9s\n"
     ]
    },
    {
     "name": "stderr",
     "output_type": "stream",
     "text": [
      "c:\\Users\\Tiago\\AppData\\Local\\Programs\\Python\\Python313\\Lib\\site-packages\\sklearn\\neural_network\\_multilayer_perceptron.py:691: ConvergenceWarning: Stochastic Optimizer: Maximum iterations (500) reached and the optimization hasn't converged yet.\n",
      "  warnings.warn(\n"
     ]
    },
    {
     "name": "stdout",
     "output_type": "stream",
     "text": [
      "[CV 3/3] END activation=relu, alpha=0.01, hidden_layer_sizes=(50, 100), learning_rate_init=0.0001, max_iter=500, solver=adam;, score=0.891 total time=  19.7s\n",
      "[CV 1/3] END activation=relu, alpha=0.001, hidden_layer_sizes=(100, 150), learning_rate_init=0.001, max_iter=500, solver=adam;, score=0.875 total time=  17.5s\n",
      "[CV 2/3] END activation=relu, alpha=0.001, hidden_layer_sizes=(100, 150), learning_rate_init=0.001, max_iter=500, solver=adam;, score=0.863 total time=  14.2s\n",
      "[CV 3/3] END activation=relu, alpha=0.001, hidden_layer_sizes=(100, 150), learning_rate_init=0.001, max_iter=500, solver=adam;, score=0.863 total time=  13.5s\n"
     ]
    },
    {
     "name": "stderr",
     "output_type": "stream",
     "text": [
      "c:\\Users\\Tiago\\AppData\\Local\\Programs\\Python\\Python313\\Lib\\site-packages\\sklearn\\neural_network\\_multilayer_perceptron.py:691: ConvergenceWarning: Stochastic Optimizer: Maximum iterations (500) reached and the optimization hasn't converged yet.\n",
      "  warnings.warn(\n"
     ]
    },
    {
     "name": "stdout",
     "output_type": "stream",
     "text": [
      "[CV 1/3] END activation=relu, alpha=0.001, hidden_layer_sizes=(100, 150), learning_rate_init=0.0001, max_iter=500, solver=adam;, score=0.894 total time=  30.9s\n"
     ]
    },
    {
     "name": "stderr",
     "output_type": "stream",
     "text": [
      "c:\\Users\\Tiago\\AppData\\Local\\Programs\\Python\\Python313\\Lib\\site-packages\\sklearn\\neural_network\\_multilayer_perceptron.py:691: ConvergenceWarning: Stochastic Optimizer: Maximum iterations (500) reached and the optimization hasn't converged yet.\n",
      "  warnings.warn(\n"
     ]
    },
    {
     "name": "stdout",
     "output_type": "stream",
     "text": [
      "[CV 2/3] END activation=relu, alpha=0.001, hidden_layer_sizes=(100, 150), learning_rate_init=0.0001, max_iter=500, solver=adam;, score=0.891 total time=  31.5s\n"
     ]
    },
    {
     "name": "stderr",
     "output_type": "stream",
     "text": [
      "c:\\Users\\Tiago\\AppData\\Local\\Programs\\Python\\Python313\\Lib\\site-packages\\sklearn\\neural_network\\_multilayer_perceptron.py:691: ConvergenceWarning: Stochastic Optimizer: Maximum iterations (500) reached and the optimization hasn't converged yet.\n",
      "  warnings.warn(\n"
     ]
    },
    {
     "name": "stdout",
     "output_type": "stream",
     "text": [
      "[CV 3/3] END activation=relu, alpha=0.001, hidden_layer_sizes=(100, 150), learning_rate_init=0.0001, max_iter=500, solver=adam;, score=0.887 total time=  30.6s\n",
      "[CV 1/3] END activation=relu, alpha=0.001, hidden_layer_sizes=(50, 100), learning_rate_init=0.001, max_iter=500, solver=adam;, score=0.871 total time=  16.6s\n",
      "[CV 2/3] END activation=relu, alpha=0.001, hidden_layer_sizes=(50, 100), learning_rate_init=0.001, max_iter=500, solver=adam;, score=0.860 total time=  18.7s\n",
      "[CV 3/3] END activation=relu, alpha=0.001, hidden_layer_sizes=(50, 100), learning_rate_init=0.001, max_iter=500, solver=adam;, score=0.874 total time=  16.9s\n"
     ]
    },
    {
     "name": "stderr",
     "output_type": "stream",
     "text": [
      "c:\\Users\\Tiago\\AppData\\Local\\Programs\\Python\\Python313\\Lib\\site-packages\\sklearn\\neural_network\\_multilayer_perceptron.py:691: ConvergenceWarning: Stochastic Optimizer: Maximum iterations (500) reached and the optimization hasn't converged yet.\n",
      "  warnings.warn(\n"
     ]
    },
    {
     "name": "stdout",
     "output_type": "stream",
     "text": [
      "[CV 1/3] END activation=relu, alpha=0.001, hidden_layer_sizes=(50, 100), learning_rate_init=0.0001, max_iter=500, solver=adam;, score=0.894 total time=  19.3s\n"
     ]
    },
    {
     "name": "stderr",
     "output_type": "stream",
     "text": [
      "c:\\Users\\Tiago\\AppData\\Local\\Programs\\Python\\Python313\\Lib\\site-packages\\sklearn\\neural_network\\_multilayer_perceptron.py:691: ConvergenceWarning: Stochastic Optimizer: Maximum iterations (500) reached and the optimization hasn't converged yet.\n",
      "  warnings.warn(\n"
     ]
    },
    {
     "name": "stdout",
     "output_type": "stream",
     "text": [
      "[CV 2/3] END activation=relu, alpha=0.001, hidden_layer_sizes=(50, 100), learning_rate_init=0.0001, max_iter=500, solver=adam;, score=0.899 total time=  20.3s\n"
     ]
    },
    {
     "name": "stderr",
     "output_type": "stream",
     "text": [
      "c:\\Users\\Tiago\\AppData\\Local\\Programs\\Python\\Python313\\Lib\\site-packages\\sklearn\\neural_network\\_multilayer_perceptron.py:691: ConvergenceWarning: Stochastic Optimizer: Maximum iterations (500) reached and the optimization hasn't converged yet.\n",
      "  warnings.warn(\n"
     ]
    },
    {
     "name": "stdout",
     "output_type": "stream",
     "text": [
      "[CV 3/3] END activation=relu, alpha=0.001, hidden_layer_sizes=(50, 100), learning_rate_init=0.0001, max_iter=500, solver=adam;, score=0.887 total time=  20.0s\n",
      "[CV 1/3] END activation=tanh, alpha=0.01, hidden_layer_sizes=(100, 150), learning_rate_init=0.001, max_iter=500, solver=adam;, score=0.878 total time=  28.8s\n"
     ]
    },
    {
     "name": "stderr",
     "output_type": "stream",
     "text": [
      "c:\\Users\\Tiago\\AppData\\Local\\Programs\\Python\\Python313\\Lib\\site-packages\\sklearn\\neural_network\\_multilayer_perceptron.py:691: ConvergenceWarning: Stochastic Optimizer: Maximum iterations (500) reached and the optimization hasn't converged yet.\n",
      "  warnings.warn(\n"
     ]
    },
    {
     "name": "stdout",
     "output_type": "stream",
     "text": [
      "[CV 2/3] END activation=tanh, alpha=0.01, hidden_layer_sizes=(100, 150), learning_rate_init=0.001, max_iter=500, solver=adam;, score=0.877 total time=  32.9s\n",
      "[CV 3/3] END activation=tanh, alpha=0.01, hidden_layer_sizes=(100, 150), learning_rate_init=0.001, max_iter=500, solver=adam;, score=0.866 total time=  30.0s\n"
     ]
    },
    {
     "name": "stderr",
     "output_type": "stream",
     "text": [
      "c:\\Users\\Tiago\\AppData\\Local\\Programs\\Python\\Python313\\Lib\\site-packages\\sklearn\\neural_network\\_multilayer_perceptron.py:691: ConvergenceWarning: Stochastic Optimizer: Maximum iterations (500) reached and the optimization hasn't converged yet.\n",
      "  warnings.warn(\n"
     ]
    },
    {
     "name": "stdout",
     "output_type": "stream",
     "text": [
      "[CV 1/3] END activation=tanh, alpha=0.01, hidden_layer_sizes=(100, 150), learning_rate_init=0.0001, max_iter=500, solver=adam;, score=0.897 total time=  36.8s\n"
     ]
    },
    {
     "name": "stderr",
     "output_type": "stream",
     "text": [
      "c:\\Users\\Tiago\\AppData\\Local\\Programs\\Python\\Python313\\Lib\\site-packages\\sklearn\\neural_network\\_multilayer_perceptron.py:691: ConvergenceWarning: Stochastic Optimizer: Maximum iterations (500) reached and the optimization hasn't converged yet.\n",
      "  warnings.warn(\n"
     ]
    },
    {
     "name": "stdout",
     "output_type": "stream",
     "text": [
      "[CV 2/3] END activation=tanh, alpha=0.01, hidden_layer_sizes=(100, 150), learning_rate_init=0.0001, max_iter=500, solver=adam;, score=0.898 total time=  35.5s\n"
     ]
    },
    {
     "name": "stderr",
     "output_type": "stream",
     "text": [
      "c:\\Users\\Tiago\\AppData\\Local\\Programs\\Python\\Python313\\Lib\\site-packages\\sklearn\\neural_network\\_multilayer_perceptron.py:691: ConvergenceWarning: Stochastic Optimizer: Maximum iterations (500) reached and the optimization hasn't converged yet.\n",
      "  warnings.warn(\n"
     ]
    },
    {
     "name": "stdout",
     "output_type": "stream",
     "text": [
      "[CV 3/3] END activation=tanh, alpha=0.01, hidden_layer_sizes=(100, 150), learning_rate_init=0.0001, max_iter=500, solver=adam;, score=0.889 total time=  32.3s\n"
     ]
    },
    {
     "name": "stderr",
     "output_type": "stream",
     "text": [
      "c:\\Users\\Tiago\\AppData\\Local\\Programs\\Python\\Python313\\Lib\\site-packages\\sklearn\\neural_network\\_multilayer_perceptron.py:691: ConvergenceWarning: Stochastic Optimizer: Maximum iterations (500) reached and the optimization hasn't converged yet.\n",
      "  warnings.warn(\n"
     ]
    },
    {
     "name": "stdout",
     "output_type": "stream",
     "text": [
      "[CV 1/3] END activation=tanh, alpha=0.01, hidden_layer_sizes=(50, 100), learning_rate_init=0.001, max_iter=500, solver=adam;, score=0.881 total time=  18.3s\n"
     ]
    },
    {
     "name": "stderr",
     "output_type": "stream",
     "text": [
      "c:\\Users\\Tiago\\AppData\\Local\\Programs\\Python\\Python313\\Lib\\site-packages\\sklearn\\neural_network\\_multilayer_perceptron.py:691: ConvergenceWarning: Stochastic Optimizer: Maximum iterations (500) reached and the optimization hasn't converged yet.\n",
      "  warnings.warn(\n"
     ]
    },
    {
     "name": "stdout",
     "output_type": "stream",
     "text": [
      "[CV 2/3] END activation=tanh, alpha=0.01, hidden_layer_sizes=(50, 100), learning_rate_init=0.001, max_iter=500, solver=adam;, score=0.865 total time=  18.5s\n"
     ]
    },
    {
     "name": "stderr",
     "output_type": "stream",
     "text": [
      "c:\\Users\\Tiago\\AppData\\Local\\Programs\\Python\\Python313\\Lib\\site-packages\\sklearn\\neural_network\\_multilayer_perceptron.py:691: ConvergenceWarning: Stochastic Optimizer: Maximum iterations (500) reached and the optimization hasn't converged yet.\n",
      "  warnings.warn(\n"
     ]
    },
    {
     "name": "stdout",
     "output_type": "stream",
     "text": [
      "[CV 3/3] END activation=tanh, alpha=0.01, hidden_layer_sizes=(50, 100), learning_rate_init=0.001, max_iter=500, solver=adam;, score=0.867 total time=  20.3s\n"
     ]
    },
    {
     "name": "stderr",
     "output_type": "stream",
     "text": [
      "c:\\Users\\Tiago\\AppData\\Local\\Programs\\Python\\Python313\\Lib\\site-packages\\sklearn\\neural_network\\_multilayer_perceptron.py:691: ConvergenceWarning: Stochastic Optimizer: Maximum iterations (500) reached and the optimization hasn't converged yet.\n",
      "  warnings.warn(\n"
     ]
    },
    {
     "name": "stdout",
     "output_type": "stream",
     "text": [
      "[CV 1/3] END activation=tanh, alpha=0.01, hidden_layer_sizes=(50, 100), learning_rate_init=0.0001, max_iter=500, solver=adam;, score=0.897 total time=  18.9s\n"
     ]
    },
    {
     "name": "stderr",
     "output_type": "stream",
     "text": [
      "c:\\Users\\Tiago\\AppData\\Local\\Programs\\Python\\Python313\\Lib\\site-packages\\sklearn\\neural_network\\_multilayer_perceptron.py:691: ConvergenceWarning: Stochastic Optimizer: Maximum iterations (500) reached and the optimization hasn't converged yet.\n",
      "  warnings.warn(\n"
     ]
    },
    {
     "name": "stdout",
     "output_type": "stream",
     "text": [
      "[CV 2/3] END activation=tanh, alpha=0.01, hidden_layer_sizes=(50, 100), learning_rate_init=0.0001, max_iter=500, solver=adam;, score=0.899 total time=  18.4s\n"
     ]
    },
    {
     "name": "stderr",
     "output_type": "stream",
     "text": [
      "c:\\Users\\Tiago\\AppData\\Local\\Programs\\Python\\Python313\\Lib\\site-packages\\sklearn\\neural_network\\_multilayer_perceptron.py:691: ConvergenceWarning: Stochastic Optimizer: Maximum iterations (500) reached and the optimization hasn't converged yet.\n",
      "  warnings.warn(\n"
     ]
    },
    {
     "name": "stdout",
     "output_type": "stream",
     "text": [
      "[CV 3/3] END activation=tanh, alpha=0.01, hidden_layer_sizes=(50, 100), learning_rate_init=0.0001, max_iter=500, solver=adam;, score=0.893 total time=  18.1s\n",
      "[CV 1/3] END activation=tanh, alpha=0.001, hidden_layer_sizes=(100, 150), learning_rate_init=0.001, max_iter=500, solver=adam;, score=0.876 total time=  27.4s\n",
      "[CV 2/3] END activation=tanh, alpha=0.001, hidden_layer_sizes=(100, 150), learning_rate_init=0.001, max_iter=500, solver=adam;, score=0.873 total time=  27.3s\n",
      "[CV 3/3] END activation=tanh, alpha=0.001, hidden_layer_sizes=(100, 150), learning_rate_init=0.001, max_iter=500, solver=adam;, score=0.872 total time=  29.1s\n"
     ]
    },
    {
     "name": "stderr",
     "output_type": "stream",
     "text": [
      "c:\\Users\\Tiago\\AppData\\Local\\Programs\\Python\\Python313\\Lib\\site-packages\\sklearn\\neural_network\\_multilayer_perceptron.py:691: ConvergenceWarning: Stochastic Optimizer: Maximum iterations (500) reached and the optimization hasn't converged yet.\n",
      "  warnings.warn(\n"
     ]
    },
    {
     "name": "stdout",
     "output_type": "stream",
     "text": [
      "[CV 1/3] END activation=tanh, alpha=0.001, hidden_layer_sizes=(100, 150), learning_rate_init=0.0001, max_iter=500, solver=adam;, score=0.895 total time=  32.7s\n"
     ]
    },
    {
     "name": "stderr",
     "output_type": "stream",
     "text": [
      "c:\\Users\\Tiago\\AppData\\Local\\Programs\\Python\\Python313\\Lib\\site-packages\\sklearn\\neural_network\\_multilayer_perceptron.py:691: ConvergenceWarning: Stochastic Optimizer: Maximum iterations (500) reached and the optimization hasn't converged yet.\n",
      "  warnings.warn(\n"
     ]
    },
    {
     "name": "stdout",
     "output_type": "stream",
     "text": [
      "[CV 2/3] END activation=tanh, alpha=0.001, hidden_layer_sizes=(100, 150), learning_rate_init=0.0001, max_iter=500, solver=adam;, score=0.894 total time=  32.4s\n"
     ]
    },
    {
     "name": "stderr",
     "output_type": "stream",
     "text": [
      "c:\\Users\\Tiago\\AppData\\Local\\Programs\\Python\\Python313\\Lib\\site-packages\\sklearn\\neural_network\\_multilayer_perceptron.py:691: ConvergenceWarning: Stochastic Optimizer: Maximum iterations (500) reached and the optimization hasn't converged yet.\n",
      "  warnings.warn(\n"
     ]
    },
    {
     "name": "stdout",
     "output_type": "stream",
     "text": [
      "[CV 3/3] END activation=tanh, alpha=0.001, hidden_layer_sizes=(100, 150), learning_rate_init=0.0001, max_iter=500, solver=adam;, score=0.889 total time=  33.0s\n"
     ]
    },
    {
     "name": "stderr",
     "output_type": "stream",
     "text": [
      "c:\\Users\\Tiago\\AppData\\Local\\Programs\\Python\\Python313\\Lib\\site-packages\\sklearn\\neural_network\\_multilayer_perceptron.py:691: ConvergenceWarning: Stochastic Optimizer: Maximum iterations (500) reached and the optimization hasn't converged yet.\n",
      "  warnings.warn(\n"
     ]
    },
    {
     "name": "stdout",
     "output_type": "stream",
     "text": [
      "[CV 1/3] END activation=tanh, alpha=0.001, hidden_layer_sizes=(50, 100), learning_rate_init=0.001, max_iter=500, solver=adam;, score=0.874 total time=  19.5s\n"
     ]
    },
    {
     "name": "stderr",
     "output_type": "stream",
     "text": [
      "c:\\Users\\Tiago\\AppData\\Local\\Programs\\Python\\Python313\\Lib\\site-packages\\sklearn\\neural_network\\_multilayer_perceptron.py:691: ConvergenceWarning: Stochastic Optimizer: Maximum iterations (500) reached and the optimization hasn't converged yet.\n",
      "  warnings.warn(\n"
     ]
    },
    {
     "name": "stdout",
     "output_type": "stream",
     "text": [
      "[CV 2/3] END activation=tanh, alpha=0.001, hidden_layer_sizes=(50, 100), learning_rate_init=0.001, max_iter=500, solver=adam;, score=0.865 total time=  19.3s\n"
     ]
    },
    {
     "name": "stderr",
     "output_type": "stream",
     "text": [
      "c:\\Users\\Tiago\\AppData\\Local\\Programs\\Python\\Python313\\Lib\\site-packages\\sklearn\\neural_network\\_multilayer_perceptron.py:691: ConvergenceWarning: Stochastic Optimizer: Maximum iterations (500) reached and the optimization hasn't converged yet.\n",
      "  warnings.warn(\n"
     ]
    },
    {
     "name": "stdout",
     "output_type": "stream",
     "text": [
      "[CV 3/3] END activation=tanh, alpha=0.001, hidden_layer_sizes=(50, 100), learning_rate_init=0.001, max_iter=500, solver=adam;, score=0.873 total time=  18.4s\n"
     ]
    },
    {
     "name": "stderr",
     "output_type": "stream",
     "text": [
      "c:\\Users\\Tiago\\AppData\\Local\\Programs\\Python\\Python313\\Lib\\site-packages\\sklearn\\neural_network\\_multilayer_perceptron.py:691: ConvergenceWarning: Stochastic Optimizer: Maximum iterations (500) reached and the optimization hasn't converged yet.\n",
      "  warnings.warn(\n"
     ]
    },
    {
     "name": "stdout",
     "output_type": "stream",
     "text": [
      "[CV 1/3] END activation=tanh, alpha=0.001, hidden_layer_sizes=(50, 100), learning_rate_init=0.0001, max_iter=500, solver=adam;, score=0.898 total time=  19.1s\n"
     ]
    },
    {
     "name": "stderr",
     "output_type": "stream",
     "text": [
      "c:\\Users\\Tiago\\AppData\\Local\\Programs\\Python\\Python313\\Lib\\site-packages\\sklearn\\neural_network\\_multilayer_perceptron.py:691: ConvergenceWarning: Stochastic Optimizer: Maximum iterations (500) reached and the optimization hasn't converged yet.\n",
      "  warnings.warn(\n"
     ]
    },
    {
     "name": "stdout",
     "output_type": "stream",
     "text": [
      "[CV 2/3] END activation=tanh, alpha=0.001, hidden_layer_sizes=(50, 100), learning_rate_init=0.0001, max_iter=500, solver=adam;, score=0.895 total time=  20.0s\n"
     ]
    },
    {
     "name": "stderr",
     "output_type": "stream",
     "text": [
      "c:\\Users\\Tiago\\AppData\\Local\\Programs\\Python\\Python313\\Lib\\site-packages\\sklearn\\neural_network\\_multilayer_perceptron.py:691: ConvergenceWarning: Stochastic Optimizer: Maximum iterations (500) reached and the optimization hasn't converged yet.\n",
      "  warnings.warn(\n"
     ]
    },
    {
     "name": "stdout",
     "output_type": "stream",
     "text": [
      "[CV 3/3] END activation=tanh, alpha=0.001, hidden_layer_sizes=(50, 100), learning_rate_init=0.0001, max_iter=500, solver=adam;, score=0.891 total time=  20.9s\n",
      "[CV 1/3] END activation=logistic, alpha=0.01, hidden_layer_sizes=(100, 150), learning_rate_init=0.001, max_iter=500, solver=adam;, score=0.900 total time=  26.1s\n",
      "[CV 2/3] END activation=logistic, alpha=0.01, hidden_layer_sizes=(100, 150), learning_rate_init=0.001, max_iter=500, solver=adam;, score=0.896 total time=  39.6s\n"
     ]
    },
    {
     "name": "stderr",
     "output_type": "stream",
     "text": [
      "c:\\Users\\Tiago\\AppData\\Local\\Programs\\Python\\Python313\\Lib\\site-packages\\sklearn\\neural_network\\_multilayer_perceptron.py:691: ConvergenceWarning: Stochastic Optimizer: Maximum iterations (500) reached and the optimization hasn't converged yet.\n",
      "  warnings.warn(\n"
     ]
    },
    {
     "name": "stdout",
     "output_type": "stream",
     "text": [
      "[CV 3/3] END activation=logistic, alpha=0.01, hidden_layer_sizes=(100, 150), learning_rate_init=0.001, max_iter=500, solver=adam;, score=0.889 total time= 1.2min\n",
      "[CV 1/3] END activation=logistic, alpha=0.01, hidden_layer_sizes=(100, 150), learning_rate_init=0.0001, max_iter=500, solver=adam;, score=0.891 total time=  19.9s\n",
      "[CV 2/3] END activation=logistic, alpha=0.01, hidden_layer_sizes=(100, 150), learning_rate_init=0.0001, max_iter=500, solver=adam;, score=0.893 total time= 1.1min\n",
      "[CV 3/3] END activation=logistic, alpha=0.01, hidden_layer_sizes=(100, 150), learning_rate_init=0.0001, max_iter=500, solver=adam;, score=0.888 total time=  57.1s\n",
      "[CV 1/3] END activation=logistic, alpha=0.01, hidden_layer_sizes=(50, 100), learning_rate_init=0.001, max_iter=500, solver=adam;, score=0.897 total time=  12.1s\n",
      "[CV 2/3] END activation=logistic, alpha=0.01, hidden_layer_sizes=(50, 100), learning_rate_init=0.001, max_iter=500, solver=adam;, score=0.894 total time=  38.0s\n"
     ]
    },
    {
     "name": "stderr",
     "output_type": "stream",
     "text": [
      "c:\\Users\\Tiago\\AppData\\Local\\Programs\\Python\\Python313\\Lib\\site-packages\\sklearn\\neural_network\\_multilayer_perceptron.py:691: ConvergenceWarning: Stochastic Optimizer: Maximum iterations (500) reached and the optimization hasn't converged yet.\n",
      "  warnings.warn(\n"
     ]
    },
    {
     "name": "stdout",
     "output_type": "stream",
     "text": [
      "[CV 3/3] END activation=logistic, alpha=0.01, hidden_layer_sizes=(50, 100), learning_rate_init=0.001, max_iter=500, solver=adam;, score=0.892 total time=  40.9s\n",
      "[CV 1/3] END activation=logistic, alpha=0.01, hidden_layer_sizes=(50, 100), learning_rate_init=0.0001, max_iter=500, solver=adam;, score=0.891 total time=  21.5s\n",
      "[CV 2/3] END activation=logistic, alpha=0.01, hidden_layer_sizes=(50, 100), learning_rate_init=0.0001, max_iter=500, solver=adam;, score=0.894 total time=  34.9s\n",
      "[CV 3/3] END activation=logistic, alpha=0.01, hidden_layer_sizes=(50, 100), learning_rate_init=0.0001, max_iter=500, solver=adam;, score=0.887 total time=  16.6s\n",
      "[CV 1/3] END activation=logistic, alpha=0.001, hidden_layer_sizes=(100, 150), learning_rate_init=0.001, max_iter=500, solver=adam;, score=0.897 total time=  41.5s\n"
     ]
    },
    {
     "name": "stderr",
     "output_type": "stream",
     "text": [
      "c:\\Users\\Tiago\\AppData\\Local\\Programs\\Python\\Python313\\Lib\\site-packages\\sklearn\\neural_network\\_multilayer_perceptron.py:691: ConvergenceWarning: Stochastic Optimizer: Maximum iterations (500) reached and the optimization hasn't converged yet.\n",
      "  warnings.warn(\n"
     ]
    },
    {
     "name": "stdout",
     "output_type": "stream",
     "text": [
      "[CV 2/3] END activation=logistic, alpha=0.001, hidden_layer_sizes=(100, 150), learning_rate_init=0.001, max_iter=500, solver=adam;, score=0.892 total time= 1.2min\n"
     ]
    },
    {
     "name": "stderr",
     "output_type": "stream",
     "text": [
      "c:\\Users\\Tiago\\AppData\\Local\\Programs\\Python\\Python313\\Lib\\site-packages\\sklearn\\neural_network\\_multilayer_perceptron.py:691: ConvergenceWarning: Stochastic Optimizer: Maximum iterations (500) reached and the optimization hasn't converged yet.\n",
      "  warnings.warn(\n"
     ]
    },
    {
     "name": "stdout",
     "output_type": "stream",
     "text": [
      "[CV 3/3] END activation=logistic, alpha=0.001, hidden_layer_sizes=(100, 150), learning_rate_init=0.001, max_iter=500, solver=adam;, score=0.884 total time= 1.2min\n",
      "[CV 1/3] END activation=logistic, alpha=0.001, hidden_layer_sizes=(100, 150), learning_rate_init=0.0001, max_iter=500, solver=adam;, score=0.896 total time= 1.1min\n"
     ]
    },
    {
     "name": "stderr",
     "output_type": "stream",
     "text": [
      "c:\\Users\\Tiago\\AppData\\Local\\Programs\\Python\\Python313\\Lib\\site-packages\\sklearn\\neural_network\\_multilayer_perceptron.py:691: ConvergenceWarning: Stochastic Optimizer: Maximum iterations (500) reached and the optimization hasn't converged yet.\n",
      "  warnings.warn(\n"
     ]
    },
    {
     "name": "stdout",
     "output_type": "stream",
     "text": [
      "[CV 2/3] END activation=logistic, alpha=0.001, hidden_layer_sizes=(100, 150), learning_rate_init=0.0001, max_iter=500, solver=adam;, score=0.894 total time= 1.3min\n",
      "[CV 3/3] END activation=logistic, alpha=0.001, hidden_layer_sizes=(100, 150), learning_rate_init=0.0001, max_iter=500, solver=adam;, score=0.890 total time= 1.1min\n"
     ]
    },
    {
     "name": "stderr",
     "output_type": "stream",
     "text": [
      "c:\\Users\\Tiago\\AppData\\Local\\Programs\\Python\\Python313\\Lib\\site-packages\\sklearn\\neural_network\\_multilayer_perceptron.py:691: ConvergenceWarning: Stochastic Optimizer: Maximum iterations (500) reached and the optimization hasn't converged yet.\n",
      "  warnings.warn(\n"
     ]
    },
    {
     "name": "stdout",
     "output_type": "stream",
     "text": [
      "[CV 1/3] END activation=logistic, alpha=0.001, hidden_layer_sizes=(50, 100), learning_rate_init=0.001, max_iter=500, solver=adam;, score=0.894 total time=  40.5s\n"
     ]
    },
    {
     "name": "stderr",
     "output_type": "stream",
     "text": [
      "c:\\Users\\Tiago\\AppData\\Local\\Programs\\Python\\Python313\\Lib\\site-packages\\sklearn\\neural_network\\_multilayer_perceptron.py:691: ConvergenceWarning: Stochastic Optimizer: Maximum iterations (500) reached and the optimization hasn't converged yet.\n",
      "  warnings.warn(\n"
     ]
    },
    {
     "name": "stdout",
     "output_type": "stream",
     "text": [
      "[CV 2/3] END activation=logistic, alpha=0.001, hidden_layer_sizes=(50, 100), learning_rate_init=0.001, max_iter=500, solver=adam;, score=0.884 total time=  41.4s\n"
     ]
    },
    {
     "name": "stderr",
     "output_type": "stream",
     "text": [
      "c:\\Users\\Tiago\\AppData\\Local\\Programs\\Python\\Python313\\Lib\\site-packages\\sklearn\\neural_network\\_multilayer_perceptron.py:691: ConvergenceWarning: Stochastic Optimizer: Maximum iterations (500) reached and the optimization hasn't converged yet.\n",
      "  warnings.warn(\n"
     ]
    },
    {
     "name": "stdout",
     "output_type": "stream",
     "text": [
      "[CV 3/3] END activation=logistic, alpha=0.001, hidden_layer_sizes=(50, 100), learning_rate_init=0.001, max_iter=500, solver=adam;, score=0.887 total time=  41.4s\n",
      "[CV 1/3] END activation=logistic, alpha=0.001, hidden_layer_sizes=(50, 100), learning_rate_init=0.0001, max_iter=500, solver=adam;, score=0.894 total time=  24.2s\n"
     ]
    },
    {
     "name": "stderr",
     "output_type": "stream",
     "text": [
      "c:\\Users\\Tiago\\AppData\\Local\\Programs\\Python\\Python313\\Lib\\site-packages\\sklearn\\neural_network\\_multilayer_perceptron.py:691: ConvergenceWarning: Stochastic Optimizer: Maximum iterations (500) reached and the optimization hasn't converged yet.\n",
      "  warnings.warn(\n"
     ]
    },
    {
     "name": "stdout",
     "output_type": "stream",
     "text": [
      "[CV 2/3] END activation=logistic, alpha=0.001, hidden_layer_sizes=(50, 100), learning_rate_init=0.0001, max_iter=500, solver=adam;, score=0.894 total time=  41.4s\n",
      "[CV 3/3] END activation=logistic, alpha=0.001, hidden_layer_sizes=(50, 100), learning_rate_init=0.0001, max_iter=500, solver=adam;, score=0.887 total time=  20.1s\n",
      "Best parameters:\n",
      " {'activation': 'tanh', 'alpha': 0.01, 'hidden_layer_sizes': (50, 100), 'learning_rate_init': 0.0001, 'max_iter': 500, 'solver': 'adam'}\n"
     ]
    },
    {
     "name": "stderr",
     "output_type": "stream",
     "text": [
      "c:\\Users\\Tiago\\AppData\\Local\\Programs\\Python\\Python313\\Lib\\site-packages\\sklearn\\neural_network\\_multilayer_perceptron.py:691: ConvergenceWarning: Stochastic Optimizer: Maximum iterations (500) reached and the optimization hasn't converged yet.\n",
      "  warnings.warn(\n"
     ]
    }
   ],
   "source": [
    "#definição e configuração do MLP e hiperparametros\n",
    "\n",
    "mlp = MLPClassifier()\n",
    "params = {\n",
    "    'hidden_layer_sizes': [(100, 150),(50,100)],\n",
    "    'activation': ['relu','tanh','logistic'],\n",
    "    'learning_rate_init': [0.001,0.0001],\n",
    "    'alpha': [0.01,0.001],\n",
    "    'solver': ['adam'],\n",
    "    'max_iter': [500]\n",
    "}\n",
    "gs_mlp = GridSearchCV(mlp, params, cv = 3, verbose = 3,scoring = 'accuracy')\n",
    "\n",
    "gs_mlp.fit(X_train, y_train)\n",
    "print(\"Best parameters:\\n\", gs_mlp.best_params_)"
   ]
  },
  {
   "cell_type": "code",
   "execution_count": 4,
   "id": "189f9cc7-a227-4aca-9921-c65004d1c460",
   "metadata": {},
   "outputs": [
    {
     "name": "stdout",
     "output_type": "stream",
     "text": [
      "Iteration 1, loss = 0.37912493\n",
      "Iteration 2, loss = 0.29067619\n",
      "Iteration 3, loss = 0.28544030\n",
      "Iteration 4, loss = 0.28356094\n",
      "Iteration 5, loss = 0.27926067\n",
      "Iteration 6, loss = 0.27498426\n",
      "Iteration 7, loss = 0.27065652\n",
      "Iteration 8, loss = 0.26533692\n",
      "Iteration 9, loss = 0.26220182\n",
      "Iteration 10, loss = 0.25914313\n",
      "Iteration 11, loss = 0.25591538\n",
      "Iteration 12, loss = 0.25307403\n",
      "Iteration 13, loss = 0.25182582\n",
      "Iteration 14, loss = 0.24935596\n",
      "Iteration 15, loss = 0.24914606\n",
      "Iteration 16, loss = 0.24779131\n",
      "Iteration 17, loss = 0.24595183\n",
      "Iteration 18, loss = 0.24472686\n",
      "Iteration 19, loss = 0.24397005\n",
      "Iteration 20, loss = 0.24282070\n",
      "Iteration 21, loss = 0.24311473\n",
      "Iteration 22, loss = 0.24129459\n",
      "Iteration 23, loss = 0.24032124\n",
      "Iteration 24, loss = 0.24086942\n",
      "Iteration 25, loss = 0.23937858\n",
      "Iteration 26, loss = 0.23849978\n",
      "Iteration 27, loss = 0.23797253\n",
      "Iteration 28, loss = 0.23794528\n",
      "Iteration 29, loss = 0.23531189\n",
      "Iteration 30, loss = 0.23482933\n",
      "Iteration 31, loss = 0.23494981\n",
      "Iteration 32, loss = 0.23381650\n",
      "Iteration 33, loss = 0.23314574\n",
      "Iteration 34, loss = 0.23199733\n",
      "Iteration 35, loss = 0.23288166\n",
      "Iteration 36, loss = 0.23236717\n",
      "Iteration 37, loss = 0.23045187\n",
      "Iteration 38, loss = 0.22945832\n",
      "Iteration 39, loss = 0.22888644\n",
      "Iteration 40, loss = 0.22749579\n",
      "Iteration 41, loss = 0.22957827\n",
      "Iteration 42, loss = 0.22863373\n",
      "Iteration 43, loss = 0.22573696\n",
      "Iteration 44, loss = 0.22620891\n",
      "Iteration 45, loss = 0.22494898\n",
      "Iteration 46, loss = 0.22502778\n",
      "Iteration 47, loss = 0.22404155\n",
      "Iteration 48, loss = 0.22367424\n",
      "Iteration 49, loss = 0.22375217\n",
      "Iteration 50, loss = 0.22230995\n",
      "Iteration 51, loss = 0.22138198\n",
      "Iteration 52, loss = 0.22117322\n",
      "Iteration 53, loss = 0.22164429\n",
      "Iteration 54, loss = 0.21955061\n",
      "Iteration 55, loss = 0.22047117\n",
      "Iteration 56, loss = 0.22007584\n",
      "Iteration 57, loss = 0.21868909\n",
      "Iteration 58, loss = 0.21776662\n",
      "Iteration 59, loss = 0.21971697\n",
      "Iteration 60, loss = 0.21718480\n",
      "Iteration 61, loss = 0.21644405\n",
      "Iteration 62, loss = 0.21661191\n",
      "Iteration 63, loss = 0.21659145\n",
      "Iteration 64, loss = 0.21486409\n",
      "Iteration 65, loss = 0.21396124\n",
      "Iteration 66, loss = 0.21394792\n",
      "Iteration 67, loss = 0.21710442\n",
      "Iteration 68, loss = 0.21296173\n",
      "Iteration 69, loss = 0.21248506\n",
      "Iteration 70, loss = 0.21208611\n",
      "Iteration 71, loss = 0.21301134\n",
      "Iteration 72, loss = 0.21112168\n",
      "Iteration 73, loss = 0.21048589\n",
      "Iteration 74, loss = 0.21175599\n",
      "Iteration 75, loss = 0.21024684\n",
      "Iteration 76, loss = 0.20940284\n",
      "Iteration 77, loss = 0.20915692\n",
      "Iteration 78, loss = 0.21016059\n",
      "Iteration 79, loss = 0.20863748\n",
      "Iteration 80, loss = 0.20858697\n",
      "Iteration 81, loss = 0.20629390\n",
      "Iteration 82, loss = 0.20741773\n",
      "Iteration 83, loss = 0.20619101\n",
      "Iteration 84, loss = 0.20578728\n",
      "Iteration 85, loss = 0.20555159\n",
      "Iteration 86, loss = 0.20502218\n",
      "Iteration 87, loss = 0.20362140\n",
      "Iteration 88, loss = 0.20364390\n",
      "Iteration 89, loss = 0.20284914\n",
      "Iteration 90, loss = 0.20345908\n",
      "Iteration 91, loss = 0.20387236\n",
      "Iteration 92, loss = 0.20183904\n",
      "Iteration 93, loss = 0.20299919\n",
      "Iteration 94, loss = 0.20035844\n",
      "Iteration 95, loss = 0.20301002\n",
      "Iteration 96, loss = 0.20110054\n",
      "Iteration 97, loss = 0.19951616\n",
      "Iteration 98, loss = 0.20068901\n",
      "Iteration 99, loss = 0.19980063\n",
      "Iteration 100, loss = 0.19967586\n",
      "Iteration 101, loss = 0.19759644\n",
      "Iteration 102, loss = 0.19859279\n",
      "Iteration 103, loss = 0.19918398\n",
      "Iteration 104, loss = 0.19952074\n",
      "Iteration 105, loss = 0.19802764\n",
      "Iteration 106, loss = 0.19592433\n",
      "Iteration 107, loss = 0.19449183\n",
      "Iteration 108, loss = 0.19612972\n",
      "Iteration 109, loss = 0.19623499\n",
      "Iteration 110, loss = 0.19446667\n",
      "Iteration 111, loss = 0.19530549\n",
      "Iteration 112, loss = 0.19582933\n",
      "Iteration 113, loss = 0.19560158\n",
      "Iteration 114, loss = 0.19467790\n",
      "Iteration 115, loss = 0.19305831\n",
      "Iteration 116, loss = 0.19300187\n",
      "Iteration 117, loss = 0.19188996\n",
      "Iteration 118, loss = 0.19200301\n",
      "Iteration 119, loss = 0.19147006\n",
      "Iteration 120, loss = 0.19282756\n",
      "Iteration 121, loss = 0.19059240\n",
      "Iteration 122, loss = 0.19056589\n",
      "Iteration 123, loss = 0.18937938\n",
      "Iteration 124, loss = 0.19073008\n",
      "Iteration 125, loss = 0.18899722\n",
      "Iteration 126, loss = 0.18969664\n",
      "Iteration 127, loss = 0.19108739\n",
      "Iteration 128, loss = 0.18828789\n",
      "Iteration 129, loss = 0.18675137\n",
      "Iteration 130, loss = 0.18795021\n",
      "Iteration 131, loss = 0.18831683\n",
      "Iteration 132, loss = 0.18542666\n",
      "Iteration 133, loss = 0.18697261\n",
      "Iteration 134, loss = 0.18732387\n",
      "Iteration 135, loss = 0.18498726\n",
      "Iteration 136, loss = 0.18480805\n",
      "Iteration 137, loss = 0.18375160\n",
      "Iteration 138, loss = 0.18477861\n",
      "Iteration 139, loss = 0.18473301\n",
      "Iteration 140, loss = 0.18457817\n",
      "Iteration 141, loss = 0.18467553\n",
      "Iteration 142, loss = 0.18324414\n",
      "Iteration 143, loss = 0.18286910\n",
      "Iteration 144, loss = 0.18072766\n",
      "Iteration 145, loss = 0.18140012\n",
      "Iteration 146, loss = 0.18278364\n",
      "Iteration 147, loss = 0.18030670\n",
      "Iteration 148, loss = 0.18148743\n",
      "Iteration 149, loss = 0.17989061\n",
      "Iteration 150, loss = 0.17860938\n",
      "Iteration 151, loss = 0.18146383\n",
      "Iteration 152, loss = 0.17857876\n",
      "Iteration 153, loss = 0.17787058\n",
      "Iteration 154, loss = 0.17831771\n",
      "Iteration 155, loss = 0.17781301\n",
      "Iteration 156, loss = 0.17791088\n",
      "Iteration 157, loss = 0.17638266\n",
      "Iteration 158, loss = 0.17785805\n",
      "Iteration 159, loss = 0.17503237\n",
      "Iteration 160, loss = 0.17499574\n",
      "Iteration 161, loss = 0.17467732\n",
      "Iteration 162, loss = 0.17369647\n",
      "Iteration 163, loss = 0.17363236\n",
      "Iteration 164, loss = 0.17506264\n",
      "Iteration 165, loss = 0.17290895\n",
      "Iteration 166, loss = 0.17253280\n",
      "Iteration 167, loss = 0.17147018\n",
      "Iteration 168, loss = 0.17275787\n",
      "Iteration 169, loss = 0.17239190\n",
      "Iteration 170, loss = 0.17196429\n",
      "Iteration 171, loss = 0.17144460\n",
      "Iteration 172, loss = 0.17072103\n",
      "Iteration 173, loss = 0.16959268\n",
      "Iteration 174, loss = 0.16993811\n",
      "Iteration 175, loss = 0.16980670\n",
      "Iteration 176, loss = 0.16781807\n",
      "Iteration 177, loss = 0.16817696\n",
      "Iteration 178, loss = 0.16755852\n",
      "Iteration 179, loss = 0.16790191\n",
      "Iteration 180, loss = 0.16611781\n",
      "Iteration 181, loss = 0.16610117\n",
      "Iteration 182, loss = 0.16778601\n",
      "Iteration 183, loss = 0.16615073\n",
      "Iteration 184, loss = 0.16460003\n",
      "Iteration 185, loss = 0.16543223\n",
      "Iteration 186, loss = 0.16531347\n",
      "Iteration 187, loss = 0.16508996\n",
      "Iteration 188, loss = 0.16464729\n",
      "Iteration 189, loss = 0.16408781\n",
      "Iteration 190, loss = 0.16300661\n",
      "Iteration 191, loss = 0.16268005\n",
      "Iteration 192, loss = 0.16215943\n",
      "Iteration 193, loss = 0.16157333\n",
      "Iteration 194, loss = 0.16057392\n",
      "Iteration 195, loss = 0.16043330\n",
      "Iteration 196, loss = 0.16068747\n",
      "Iteration 197, loss = 0.16100296\n",
      "Iteration 198, loss = 0.15903530\n",
      "Iteration 199, loss = 0.15864800\n",
      "Iteration 200, loss = 0.15858101\n",
      "Iteration 201, loss = 0.15848921\n",
      "Iteration 202, loss = 0.15790654\n",
      "Iteration 203, loss = 0.15717626\n",
      "Iteration 204, loss = 0.15704150\n",
      "Iteration 205, loss = 0.15657464\n",
      "Iteration 206, loss = 0.15622966\n",
      "Iteration 207, loss = 0.15541097\n",
      "Iteration 208, loss = 0.15403300\n",
      "Iteration 209, loss = 0.15464847\n",
      "Iteration 210, loss = 0.15387015\n",
      "Iteration 211, loss = 0.15276780\n",
      "Iteration 212, loss = 0.15405114\n",
      "Iteration 213, loss = 0.15165798\n",
      "Iteration 214, loss = 0.15187546\n",
      "Iteration 215, loss = 0.15106784\n",
      "Iteration 216, loss = 0.15146530\n",
      "Iteration 217, loss = 0.15234402\n",
      "Iteration 218, loss = 0.14976271\n",
      "Iteration 219, loss = 0.15013247\n",
      "Iteration 220, loss = 0.14960272\n",
      "Iteration 221, loss = 0.14960741\n",
      "Iteration 222, loss = 0.14696109\n",
      "Iteration 223, loss = 0.14814285\n",
      "Iteration 224, loss = 0.14829647\n",
      "Iteration 225, loss = 0.14838434\n",
      "Iteration 226, loss = 0.14814613\n",
      "Iteration 227, loss = 0.14625377\n",
      "Iteration 228, loss = 0.14605389\n",
      "Iteration 229, loss = 0.14638475\n",
      "Iteration 230, loss = 0.14459967\n",
      "Iteration 231, loss = 0.14454968\n",
      "Iteration 232, loss = 0.14314498\n",
      "Iteration 233, loss = 0.14198551\n",
      "Iteration 234, loss = 0.14340134\n",
      "Iteration 235, loss = 0.14230368\n",
      "Iteration 236, loss = 0.14208876\n",
      "Iteration 237, loss = 0.14221562\n",
      "Iteration 238, loss = 0.14333241\n",
      "Iteration 239, loss = 0.13997738\n",
      "Iteration 240, loss = 0.14090504\n",
      "Iteration 241, loss = 0.14039011\n",
      "Iteration 242, loss = 0.13886862\n",
      "Iteration 243, loss = 0.13921061\n",
      "Iteration 244, loss = 0.13940695\n",
      "Iteration 245, loss = 0.13870873\n",
      "Iteration 246, loss = 0.13775669\n",
      "Iteration 247, loss = 0.13622524\n",
      "Iteration 248, loss = 0.13783542\n",
      "Iteration 249, loss = 0.13551473\n",
      "Iteration 250, loss = 0.13596800\n",
      "Iteration 251, loss = 0.13762829\n",
      "Iteration 252, loss = 0.13586052\n",
      "Iteration 253, loss = 0.13507097\n",
      "Iteration 254, loss = 0.13528397\n",
      "Iteration 255, loss = 0.13453939\n",
      "Iteration 256, loss = 0.13360448\n",
      "Iteration 257, loss = 0.13268522\n",
      "Iteration 258, loss = 0.13357003\n",
      "Iteration 259, loss = 0.13197363\n",
      "Iteration 260, loss = 0.13210591\n",
      "Iteration 261, loss = 0.13457282\n",
      "Iteration 262, loss = 0.13067917\n",
      "Iteration 263, loss = 0.13048270\n",
      "Iteration 264, loss = 0.12931432\n",
      "Iteration 265, loss = 0.12902443\n",
      "Iteration 266, loss = 0.12973172\n",
      "Iteration 267, loss = 0.12837170\n",
      "Iteration 268, loss = 0.12914606\n",
      "Iteration 269, loss = 0.12696050\n",
      "Iteration 270, loss = 0.12719419\n",
      "Iteration 271, loss = 0.12753021\n",
      "Iteration 272, loss = 0.12796025\n",
      "Iteration 273, loss = 0.12653357\n",
      "Iteration 274, loss = 0.12652460\n",
      "Iteration 275, loss = 0.12473748\n",
      "Iteration 276, loss = 0.12520072\n",
      "Iteration 277, loss = 0.12425858\n",
      "Iteration 278, loss = 0.12377084\n",
      "Iteration 279, loss = 0.12360524\n",
      "Iteration 280, loss = 0.12242177\n",
      "Iteration 281, loss = 0.12320382\n",
      "Iteration 282, loss = 0.12195871\n",
      "Iteration 283, loss = 0.12253095\n",
      "Iteration 284, loss = 0.12009482\n",
      "Iteration 285, loss = 0.12129437\n",
      "Iteration 286, loss = 0.12100671\n",
      "Iteration 287, loss = 0.12025701\n",
      "Iteration 288, loss = 0.11998337\n",
      "Iteration 289, loss = 0.11995184\n",
      "Iteration 290, loss = 0.11907365\n",
      "Iteration 291, loss = 0.11975775\n",
      "Iteration 292, loss = 0.11838691\n",
      "Iteration 293, loss = 0.11780754\n",
      "Iteration 294, loss = 0.11730506\n",
      "Iteration 295, loss = 0.11739517\n",
      "Iteration 296, loss = 0.11597606\n",
      "Iteration 297, loss = 0.11594700\n",
      "Iteration 298, loss = 0.11492169\n",
      "Iteration 299, loss = 0.11628119\n",
      "Iteration 300, loss = 0.11410501\n",
      "Iteration 301, loss = 0.11482979\n",
      "Iteration 302, loss = 0.11456225\n",
      "Iteration 303, loss = 0.11329884\n",
      "Iteration 304, loss = 0.11400826\n",
      "Iteration 305, loss = 0.11236576\n",
      "Iteration 306, loss = 0.11204600\n",
      "Iteration 307, loss = 0.11212763\n",
      "Iteration 308, loss = 0.11143880\n",
      "Iteration 309, loss = 0.11151629\n",
      "Iteration 310, loss = 0.11046488\n",
      "Iteration 311, loss = 0.11097607\n",
      "Iteration 312, loss = 0.10969381\n",
      "Iteration 313, loss = 0.10897528\n",
      "Iteration 314, loss = 0.11020539\n",
      "Iteration 315, loss = 0.10870918\n",
      "Iteration 316, loss = 0.10841126\n",
      "Iteration 317, loss = 0.10822696\n",
      "Iteration 318, loss = 0.10838460\n",
      "Iteration 319, loss = 0.10676836\n",
      "Iteration 320, loss = 0.10729580\n",
      "Iteration 321, loss = 0.10558126\n",
      "Iteration 322, loss = 0.10541261\n",
      "Iteration 323, loss = 0.10509863\n",
      "Iteration 324, loss = 0.10521633\n",
      "Iteration 325, loss = 0.10576582\n",
      "Iteration 326, loss = 0.10489171\n",
      "Iteration 327, loss = 0.10440872\n",
      "Iteration 328, loss = 0.10438233\n",
      "Iteration 329, loss = 0.10291507\n",
      "Iteration 330, loss = 0.10317536\n",
      "Iteration 331, loss = 0.10281900\n",
      "Iteration 332, loss = 0.10257989\n",
      "Iteration 333, loss = 0.10323389\n",
      "Iteration 334, loss = 0.10219384\n",
      "Iteration 335, loss = 0.10087577\n",
      "Iteration 336, loss = 0.10145535\n",
      "Iteration 337, loss = 0.10000036\n",
      "Iteration 338, loss = 0.10072516\n",
      "Iteration 339, loss = 0.10156017\n",
      "Iteration 340, loss = 0.09915917\n",
      "Iteration 341, loss = 0.09854707\n",
      "Iteration 342, loss = 0.09912924\n",
      "Iteration 343, loss = 0.09881409\n",
      "Iteration 344, loss = 0.09746310\n",
      "Iteration 345, loss = 0.09743508\n",
      "Iteration 346, loss = 0.09668759\n",
      "Iteration 347, loss = 0.09611525\n",
      "Iteration 348, loss = 0.09628494\n",
      "Iteration 349, loss = 0.09630621\n",
      "Iteration 350, loss = 0.09654653\n",
      "Iteration 351, loss = 0.09473602\n",
      "Iteration 352, loss = 0.09451264\n",
      "Iteration 353, loss = 0.09487235\n",
      "Iteration 354, loss = 0.09506218\n",
      "Iteration 355, loss = 0.09424080\n",
      "Iteration 356, loss = 0.09290961\n",
      "Iteration 357, loss = 0.09259412\n",
      "Iteration 358, loss = 0.09255386\n",
      "Iteration 359, loss = 0.09422854\n",
      "Iteration 360, loss = 0.09156230\n",
      "Iteration 361, loss = 0.09109264\n",
      "Iteration 362, loss = 0.09150327\n",
      "Iteration 363, loss = 0.09135950\n",
      "Iteration 364, loss = 0.08973391\n",
      "Iteration 365, loss = 0.09020378\n",
      "Iteration 366, loss = 0.08944469\n",
      "Iteration 367, loss = 0.08983237\n",
      "Iteration 368, loss = 0.08916996\n",
      "Iteration 369, loss = 0.08834902\n",
      "Iteration 370, loss = 0.08851927\n",
      "Iteration 371, loss = 0.08954881\n",
      "Iteration 372, loss = 0.08926137\n",
      "Iteration 373, loss = 0.08799230\n",
      "Iteration 374, loss = 0.08691939\n",
      "Iteration 375, loss = 0.08715233\n",
      "Iteration 376, loss = 0.08676479\n",
      "Iteration 377, loss = 0.08614984\n",
      "Iteration 378, loss = 0.08600609\n",
      "Iteration 379, loss = 0.08581901\n",
      "Iteration 380, loss = 0.08559107\n",
      "Iteration 381, loss = 0.08541521\n",
      "Iteration 382, loss = 0.08485239\n",
      "Iteration 383, loss = 0.08413063\n",
      "Iteration 384, loss = 0.08410479\n",
      "Iteration 385, loss = 0.08378811\n",
      "Iteration 386, loss = 0.08341381\n",
      "Iteration 387, loss = 0.08243375\n",
      "Iteration 388, loss = 0.08362723\n",
      "Iteration 389, loss = 0.08208601\n",
      "Iteration 390, loss = 0.08124478\n",
      "Iteration 391, loss = 0.08177473\n",
      "Iteration 392, loss = 0.08093562\n",
      "Iteration 393, loss = 0.08061061\n",
      "Iteration 394, loss = 0.08147757\n",
      "Iteration 395, loss = 0.08054920\n",
      "Iteration 396, loss = 0.08033430\n",
      "Iteration 397, loss = 0.08007763\n",
      "Iteration 398, loss = 0.07954217\n",
      "Iteration 399, loss = 0.07935696\n",
      "Iteration 400, loss = 0.07883785\n",
      "Iteration 401, loss = 0.07858968\n",
      "Iteration 402, loss = 0.07760710\n",
      "Iteration 403, loss = 0.07754637\n",
      "Iteration 404, loss = 0.07697981\n",
      "Iteration 405, loss = 0.07933580\n",
      "Iteration 406, loss = 0.07796239\n",
      "Iteration 407, loss = 0.07641662\n",
      "Iteration 408, loss = 0.07655795\n",
      "Iteration 409, loss = 0.07529493\n",
      "Iteration 410, loss = 0.07655084\n",
      "Iteration 411, loss = 0.07656140\n",
      "Iteration 412, loss = 0.07597135\n",
      "Iteration 413, loss = 0.07506238\n",
      "Iteration 414, loss = 0.07480371\n",
      "Iteration 415, loss = 0.07435406\n",
      "Iteration 416, loss = 0.07384072\n",
      "Iteration 417, loss = 0.07453486\n",
      "Iteration 418, loss = 0.07354215\n",
      "Iteration 419, loss = 0.07351740\n",
      "Iteration 420, loss = 0.07322168\n",
      "Iteration 421, loss = 0.07289467\n",
      "Iteration 422, loss = 0.07272327\n",
      "Iteration 423, loss = 0.07263023\n",
      "Iteration 424, loss = 0.07202715\n",
      "Iteration 425, loss = 0.07246557\n",
      "Iteration 426, loss = 0.07279126\n",
      "Iteration 427, loss = 0.07134631\n",
      "Iteration 428, loss = 0.07137230\n",
      "Iteration 429, loss = 0.07219228\n",
      "Iteration 430, loss = 0.07051849\n",
      "Iteration 431, loss = 0.07090750\n",
      "Iteration 432, loss = 0.07059953\n",
      "Iteration 433, loss = 0.06882423\n",
      "Iteration 434, loss = 0.06971773\n",
      "Iteration 435, loss = 0.07010069\n",
      "Iteration 436, loss = 0.06958133\n",
      "Iteration 437, loss = 0.06885555\n",
      "Iteration 438, loss = 0.06831397\n",
      "Iteration 439, loss = 0.06885169\n",
      "Iteration 440, loss = 0.06855224\n",
      "Iteration 441, loss = 0.06783749\n",
      "Iteration 442, loss = 0.06788283\n",
      "Iteration 443, loss = 0.06729689\n",
      "Iteration 444, loss = 0.06858632\n",
      "Iteration 445, loss = 0.06665535\n",
      "Iteration 446, loss = 0.06665847\n",
      "Iteration 447, loss = 0.06625649\n",
      "Iteration 448, loss = 0.06666479\n",
      "Iteration 449, loss = 0.06617951\n",
      "Iteration 450, loss = 0.06571963\n",
      "Iteration 451, loss = 0.06567394\n",
      "Iteration 452, loss = 0.06571112\n",
      "Iteration 453, loss = 0.06513806\n",
      "Iteration 454, loss = 0.06517394\n",
      "Iteration 455, loss = 0.06502889\n",
      "Iteration 456, loss = 0.06425148\n",
      "Iteration 457, loss = 0.06448694\n",
      "Iteration 458, loss = 0.06379574\n",
      "Iteration 459, loss = 0.06393335\n",
      "Iteration 460, loss = 0.06356386\n",
      "Iteration 461, loss = 0.06354959\n",
      "Iteration 462, loss = 0.06301400\n",
      "Iteration 463, loss = 0.06212952\n",
      "Iteration 464, loss = 0.06360309\n",
      "Iteration 465, loss = 0.06269920\n",
      "Iteration 466, loss = 0.06212246\n",
      "Iteration 467, loss = 0.06203184\n",
      "Iteration 468, loss = 0.06215110\n",
      "Iteration 469, loss = 0.06125473\n",
      "Iteration 470, loss = 0.06171674\n",
      "Iteration 471, loss = 0.06114553\n",
      "Iteration 472, loss = 0.06224317\n",
      "Iteration 473, loss = 0.06192369\n",
      "Iteration 474, loss = 0.06083368\n",
      "Iteration 475, loss = 0.06141919\n",
      "Iteration 476, loss = 0.06076402\n",
      "Iteration 477, loss = 0.06000644\n",
      "Iteration 478, loss = 0.06031420\n",
      "Iteration 479, loss = 0.06035548\n",
      "Iteration 480, loss = 0.05994951\n",
      "Iteration 481, loss = 0.05925124\n",
      "Iteration 482, loss = 0.05970527\n",
      "Iteration 483, loss = 0.06151678\n",
      "Iteration 484, loss = 0.05926189\n",
      "Iteration 485, loss = 0.05840745\n",
      "Iteration 486, loss = 0.05916497\n",
      "Iteration 487, loss = 0.05874876\n",
      "Iteration 488, loss = 0.05753497\n",
      "Iteration 489, loss = 0.05761906\n",
      "Iteration 490, loss = 0.05753628\n",
      "Iteration 491, loss = 0.05824702\n",
      "Iteration 492, loss = 0.05764385\n",
      "Iteration 493, loss = 0.05722406\n",
      "Iteration 494, loss = 0.05744049\n",
      "Iteration 495, loss = 0.05705935\n",
      "Iteration 496, loss = 0.05641894\n",
      "Iteration 497, loss = 0.05680567\n",
      "Iteration 498, loss = 0.05697356\n",
      "Iteration 499, loss = 0.05655883\n",
      "Iteration 500, loss = 0.05597624\n",
      "Iteration 501, loss = 0.05632632\n",
      "Iteration 502, loss = 0.05749183\n",
      "Iteration 503, loss = 0.05580524\n",
      "Iteration 504, loss = 0.05578681\n",
      "Iteration 505, loss = 0.05531833\n",
      "Iteration 506, loss = 0.05512137\n",
      "Iteration 507, loss = 0.05550091\n",
      "Iteration 508, loss = 0.05462386\n",
      "Iteration 509, loss = 0.05513536\n",
      "Iteration 510, loss = 0.05489871\n",
      "Iteration 511, loss = 0.05436853\n",
      "Iteration 512, loss = 0.05471173\n",
      "Iteration 513, loss = 0.05433355\n",
      "Iteration 514, loss = 0.05410493\n",
      "Iteration 515, loss = 0.05372730\n",
      "Iteration 516, loss = 0.05463236\n",
      "Iteration 517, loss = 0.05423460\n",
      "Iteration 518, loss = 0.05403697\n",
      "Iteration 519, loss = 0.05406115\n",
      "Iteration 520, loss = 0.05381437\n",
      "Iteration 521, loss = 0.05339184\n",
      "Iteration 522, loss = 0.05271543\n",
      "Iteration 523, loss = 0.05313417\n",
      "Iteration 524, loss = 0.05246953\n",
      "Iteration 525, loss = 0.05224691\n",
      "Iteration 526, loss = 0.05323892\n",
      "Iteration 527, loss = 0.05390095\n",
      "Iteration 528, loss = 0.05240769\n",
      "Iteration 529, loss = 0.05207313\n",
      "Iteration 530, loss = 0.05200384\n",
      "Iteration 531, loss = 0.05209445\n",
      "Iteration 532, loss = 0.05186108\n",
      "Iteration 533, loss = 0.05145700\n",
      "Iteration 534, loss = 0.05133172\n",
      "Iteration 535, loss = 0.05113878\n",
      "Iteration 536, loss = 0.05121677\n",
      "Iteration 537, loss = 0.05171929\n",
      "Iteration 538, loss = 0.05112193\n",
      "Iteration 539, loss = 0.05120596\n",
      "Iteration 540, loss = 0.05081137\n",
      "Iteration 541, loss = 0.05086930\n",
      "Iteration 542, loss = 0.05071016\n",
      "Iteration 543, loss = 0.05027095\n",
      "Iteration 544, loss = 0.05015627\n",
      "Iteration 545, loss = 0.04989329\n",
      "Iteration 546, loss = 0.05008134\n",
      "Iteration 547, loss = 0.04993958\n",
      "Iteration 548, loss = 0.05084877\n",
      "Iteration 549, loss = 0.04934815\n",
      "Iteration 550, loss = 0.04965661\n",
      "Iteration 551, loss = 0.04938776\n",
      "Iteration 552, loss = 0.04940933\n",
      "Iteration 553, loss = 0.04939834\n",
      "Iteration 554, loss = 0.04899936\n",
      "Iteration 555, loss = 0.04919767\n",
      "Iteration 556, loss = 0.04916792\n",
      "Iteration 557, loss = 0.04943740\n",
      "Iteration 558, loss = 0.04904091\n",
      "Iteration 559, loss = 0.04845343\n",
      "Iteration 560, loss = 0.04871180\n",
      "Iteration 561, loss = 0.04870992\n",
      "Iteration 562, loss = 0.04883978\n",
      "Iteration 563, loss = 0.05030562\n",
      "Iteration 564, loss = 0.04816158\n",
      "Iteration 565, loss = 0.04796031\n",
      "Iteration 566, loss = 0.04884798\n",
      "Iteration 567, loss = 0.04799667\n",
      "Iteration 568, loss = 0.04708912\n",
      "Iteration 569, loss = 0.04811544\n",
      "Iteration 570, loss = 0.04772437\n",
      "Iteration 571, loss = 0.04766714\n",
      "Iteration 572, loss = 0.04796651\n",
      "Iteration 573, loss = 0.04730389\n",
      "Iteration 574, loss = 0.04741873\n",
      "Iteration 575, loss = 0.04735833\n",
      "Iteration 576, loss = 0.04711166\n",
      "Iteration 577, loss = 0.04730744\n",
      "Iteration 578, loss = 0.04748998\n",
      "Iteration 579, loss = 0.04677856\n",
      "Iteration 580, loss = 0.04717203\n",
      "Iteration 581, loss = 0.04664282\n",
      "Iteration 582, loss = 0.04735612\n",
      "Iteration 583, loss = 0.04612135\n",
      "Iteration 584, loss = 0.04612456\n",
      "Iteration 585, loss = 0.04701742\n",
      "Iteration 586, loss = 0.04657964\n",
      "Iteration 587, loss = 0.04684477\n",
      "Iteration 588, loss = 0.04631727\n",
      "Iteration 589, loss = 0.04640272\n",
      "Iteration 590, loss = 0.04597064\n",
      "Iteration 591, loss = 0.04632646\n",
      "Iteration 592, loss = 0.04569620\n",
      "Iteration 593, loss = 0.04608131\n",
      "Iteration 594, loss = 0.04547270\n",
      "Iteration 595, loss = 0.04645320\n",
      "Iteration 596, loss = 0.04503549\n",
      "Iteration 597, loss = 0.04551784\n",
      "Iteration 598, loss = 0.04547877\n",
      "Iteration 599, loss = 0.04518737\n",
      "Iteration 600, loss = 0.04554146\n"
     ]
    },
    {
     "name": "stderr",
     "output_type": "stream",
     "text": [
      "c:\\Users\\Tiago\\AppData\\Local\\Programs\\Python\\Python313\\Lib\\site-packages\\sklearn\\neural_network\\_multilayer_perceptron.py:691: ConvergenceWarning: Stochastic Optimizer: Maximum iterations (600) reached and the optimization hasn't converged yet.\n",
      "  warnings.warn(\n"
     ]
    }
   ],
   "source": [
    "optimized_mlp = MLPClassifier(\n",
    "    hidden_layer_sizes = (50, 100),\n",
    "    activation = 'tanh',\n",
    "    alpha = 0.01,\n",
    "    learning_rate_init = 0.001,\n",
    "    max_iter = 600,\n",
    "    solver = 'adam',\n",
    "    verbose = True\n",
    ")\n",
    "optimized_mlp.fit(X_train, y_train)\n",
    "optimized_mlp_pred = optimized_mlp.predict(X_test)"
   ]
  },
  {
   "cell_type": "code",
   "execution_count": 5,
   "id": "70cef47d-5ef1-4084-9d00-de4cc9694852",
   "metadata": {},
   "outputs": [
    {
     "name": "stdout",
     "output_type": "stream",
     "text": [
      "\n",
      "🔍 Matriz de Confusão:\n",
      "[[1917  167]\n",
      " [ 169  213]]\n",
      "\n",
      "📊 Relatório de Classificação:\n",
      "              precision    recall  f1-score   support\n",
      "\n",
      "       False       0.92      0.92      0.92      2084\n",
      "        True       0.56      0.56      0.56       382\n",
      "\n",
      "    accuracy                           0.86      2466\n",
      "   macro avg       0.74      0.74      0.74      2466\n",
      "weighted avg       0.86      0.86      0.86      2466\n",
      "\n",
      "\n",
      "✅ Acurácia: 0.8637\n"
     ]
    },
    {
     "data": {
      "image/png": "[encoded data removed]",
      "text/plain": [
       "<Figure size 640x480 with 1 Axes>"
      ]
     },
     "metadata": {},
     "output_type": "display_data"
    }
   ],
   "source": [
    "print(\"\\n🔍 Matriz de Confusão:\")\n",
    "print(confusion_matrix(y_test, optimized_mlp_pred))\n",
    "\n",
    "print(\"\\n📊 Relatório de Classificação:\")\n",
    "print(classification_report(y_test, optimized_mlp_pred))\n",
    "\n",
    "print(f\"\\n✅ Acurácia: {accuracy_score(y_test, optimized_mlp_pred):.4f}\")\n",
    "\n",
    "#Curva de perda\n",
    "plt.plot(optimized_mlp.loss_curve_)\n",
    "plt.title(\"Curva de Perda Durante o Treinamento\")\n",
    "plt.xlabel(\"Épocas\")\n",
    "plt.ylabel(\"Perda\")\n",
    "plt.grid(True)\n",
    "plt.show()"
   ]
  },
  {
   "cell_type": "markdown",
   "id": "32544e45",
   "metadata": {},
   "source": [
    "KNN"
   ]
  },
  {
   "cell_type": "code",
   "execution_count": 6,
   "id": "9f44d0bb",
   "metadata": {},
   "outputs": [
    {
     "name": "stdout",
     "output_type": "stream",
     "text": [
      "K=1 → Acurácia: 0.8423\n",
      "K=3 → Acurácia: 0.8642\n",
      "K=5 → Acurácia: 0.8678\n",
      "K=7 → Acurácia: 0.8783\n",
      "K=9 → Acurácia: 0.8792\n",
      "K=11 → Acurácia: 0.8771\n"
     ]
    },
    {
     "data": {
      "text/html": [
       "<div>\n",
       "<style scoped>\n",
       "    .dataframe tbody tr th:only-of-type {\n",
       "        vertical-align: middle;\n",
       "    }\n",
       "\n",
       "    .dataframe tbody tr th {\n",
       "        vertical-align: top;\n",
       "    }\n",
       "\n",
       "    .dataframe thead th {\n",
       "        text-align: right;\n",
       "    }\n",
       "</style>\n",
       "<table border=\"1\" class=\"dataframe\">\n",
       "  <thead>\n",
       "    <tr style=\"text-align: right;\">\n",
       "      <th></th>\n",
       "      <th>K</th>\n",
       "      <th>Acurácia</th>\n",
       "    </tr>\n",
       "  </thead>\n",
       "  <tbody>\n",
       "    <tr>\n",
       "      <th>0</th>\n",
       "      <td>9</td>\n",
       "      <td>0.879157</td>\n",
       "    </tr>\n",
       "    <tr>\n",
       "      <th>1</th>\n",
       "      <td>7</td>\n",
       "      <td>0.878345</td>\n",
       "    </tr>\n",
       "    <tr>\n",
       "      <th>2</th>\n",
       "      <td>11</td>\n",
       "      <td>0.877129</td>\n",
       "    </tr>\n",
       "    <tr>\n",
       "      <th>3</th>\n",
       "      <td>5</td>\n",
       "      <td>0.867802</td>\n",
       "    </tr>\n",
       "    <tr>\n",
       "      <th>4</th>\n",
       "      <td>3</td>\n",
       "      <td>0.864152</td>\n",
       "    </tr>\n",
       "    <tr>\n",
       "      <th>5</th>\n",
       "      <td>1</td>\n",
       "      <td>0.842255</td>\n",
       "    </tr>\n",
       "  </tbody>\n",
       "</table>\n",
       "</div>"
      ],
      "text/plain": [
       "    K  Acurácia\n",
       "0   9  0.879157\n",
       "1   7  0.878345\n",
       "2  11  0.877129\n",
       "3   5  0.867802\n",
       "4   3  0.864152\n",
       "5   1  0.842255"
      ]
     },
     "metadata": {},
     "output_type": "display_data"
    },
    {
     "name": "stderr",
     "output_type": "stream",
     "text": [
      "C:\\Users\\Tiago\\AppData\\Local\\Temp\\ipykernel_4016\\1275377054.py:36: UserWarning: Glyph 129504 (\\N{BRAIN}) missing from font(s) DejaVu Sans.\n",
      "  plt.tight_layout()\n",
      "c:\\Users\\Tiago\\AppData\\Local\\Programs\\Python\\Python313\\Lib\\site-packages\\IPython\\core\\pylabtools.py:170: UserWarning: Glyph 129504 (\\N{BRAIN}) missing from font(s) DejaVu Sans.\n",
      "  fig.canvas.print_figure(bytes_io, **kw)\n"
     ]
    },
    {
     "data": {
      "image/png": "[encoded data removed]",
      "text/plain": [
       "<Figure size 1000x600 with 1 Axes>"
      ]
     },
     "metadata": {},
     "output_type": "display_data"
    },
    {
     "name": "stdout",
     "output_type": "stream",
     "text": [
      "\n",
      "🔍 Matriz de Confusão (K=9):\n",
      "[[2032   52]\n",
      " [ 246  136]]\n",
      "\n",
      "📋 Relatório de Classificação:\n",
      "              precision    recall  f1-score   support\n",
      "\n",
      "       False       0.89      0.98      0.93      2084\n",
      "        True       0.72      0.36      0.48       382\n",
      "\n",
      "    accuracy                           0.88      2466\n",
      "   macro avg       0.81      0.67      0.70      2466\n",
      "weighted avg       0.87      0.88      0.86      2466\n",
      "\n",
      "\n",
      "✅ Acurácia Final: 0.8792\n"
     ]
    }
   ],
   "source": [
    "# Separação dos dados para o KNN\n",
    "X_train_knn, X_test_knn, y_train_knn, y_test_knn = train_test_split(\n",
    "    X_encoded, y, test_size=0.2, stratify=y, random_state=42\n",
    ")\n",
    "\n",
    "# Normalização exclusiva para o KNN\n",
    "scaler_knn = StandardScaler()\n",
    "X_train_knn = scaler_knn.fit_transform(X_train_knn)\n",
    "X_test_knn = scaler_knn.transform(X_test_knn)\n",
    "\n",
    "# Teste com diferentes valores de k\n",
    "k_values = [1, 3, 5, 7, 9, 11]\n",
    "accuracies_knn = []\n",
    "\n",
    "for k in k_values:\n",
    "    knn = KNeighborsClassifier(n_neighbors=k)\n",
    "    knn.fit(X_train_knn, y_train_knn)\n",
    "    y_pred = knn.predict(X_test_knn)\n",
    "    acc = accuracy_score(y_test_knn, y_pred)\n",
    "    accuracies_knn.append(acc)\n",
    "    print(f\"K={k} → Acurácia: {acc:.4f}\")\n",
    "\n",
    "# 📊 Tabela da acurácia por valor de K\n",
    "df_knn = pd.DataFrame({'K': k_values, 'Acurácia': accuracies_knn})\n",
    "display(df_knn.sort_values(by='Acurácia', ascending=False).reset_index(drop=True))\n",
    "\n",
    "\n",
    "# Gráfico mais bonito e informativo\n",
    "plt.figure(figsize=(10, 6))\n",
    "plt.plot(df_knn['K'], df_knn['Acurácia'], marker='o', linestyle='-', color='blue')\n",
    "plt.xticks(k_values)\n",
    "plt.title(\"🧠 Acurácia do KNN por Número de Vizinhos (K)\")\n",
    "plt.xlabel(\"Número de Vizinhos (K)\")\n",
    "plt.ylabel(\"Acurácia\")\n",
    "plt.grid(True)\n",
    "plt.tight_layout()\n",
    "plt.show()\n",
    "\n",
    "\n",
    "# Avaliação final com o melhor k\n",
    "melhor_k = k_values[accuracies_knn.index(max(accuracies_knn))]\n",
    "knn_final = KNeighborsClassifier(n_neighbors=melhor_k)\n",
    "knn_final.fit(X_train_knn, y_train_knn)\n",
    "y_pred_final = knn_final.predict(X_test_knn)\n",
    "\n",
    "print(f\"\\n🔍 Matriz de Confusão (K={melhor_k}):\")\n",
    "print(confusion_matrix(y_test_knn, y_pred_final))\n",
    "\n",
    "print(\"\\n📋 Relatório de Classificação:\")\n",
    "print(classification_report(y_test_knn, y_pred_final))\n",
    "\n",
    "print(f\"\\n✅ Acurácia Final: {accuracy_score(y_test_knn, y_pred_final):.4f}\")"
   ]
  }
 ],
 "metadata": {
  "kernelspec": {
   "display_name": "Python 3",
   "language": "python",
   "name": "python3"
  },
  "language_info": {
   "codemirror_mode": {
    "name": "ipython",
    "version": 3
   },
   "file_extension": ".py",
   "mimetype": "text/x-python",
   "name": "python",
   "nbconvert_exporter": "python",
   "pygments_lexer": "ipython3",
   "version": "3.13.2"
  }
 },
 "nbformat": 4,
 "nbformat_minor": 5
}
