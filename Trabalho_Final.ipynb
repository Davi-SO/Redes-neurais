{
 "cells": [
  {
   "cell_type": "code",
   "execution_count": 1,
   "id": "9bfd3e1f-45b3-4bce-8db0-4683673ee2df",
   "metadata": {},
   "outputs": [],
   "source": [
    "from ucimlrepo import fetch_ucirepo\n",
    "import pandas as pd\n",
    "from sklearn.model_selection import train_test_split, GridSearchCV\n",
    "from sklearn.preprocessing import StandardScaler, LabelEncoder\n",
    "from sklearn.neural_network import MLPClassifier\n",
    "from sklearn.metrics import classification_report, confusion_matrix, accuracy_score\n",
    "import matplotlib.pyplot as plt\n",
    "from sklearn.neighbors import KNeighborsClassifier\n",
    "from sklearn.metrics import precision_score, recall_score, f1_score\n"
   ]
  },
  {
   "cell_type": "code",
   "execution_count": 2,
   "id": "7bc9217a-9973-423c-9351-4ee0396c5d53",
   "metadata": {},
   "outputs": [],
   "source": [
    "data = fetch_ucirepo(id=468)\n",
    "\n",
    "X = pd.DataFrame(data.data.features)\n",
    "y = pd.Series(data.data.targets.values.ravel(), name='Revenue')\n",
    "\n",
    "#codificação de variáveis categóricas\n",
    "\n",
    "X_encoded = X.copy()\n",
    "for col in X.select_dtypes(include=['object']).columns:\n",
    "    le = LabelEncoder()\n",
    "    X_encoded[col] = le.fit_transform(X[col])\n",
    "\n",
    "#divisão dos dados - 80/20\n",
    "X_train, X_test, y_train, y_test = train_test_split(X_encoded, y, test_size=0.2, random_state=42, stratify=y)\n",
    "\n",
    "#normalização dos dados\n",
    "\n",
    "scaler = StandardScaler()\n",
    "X_train = scaler.fit_transform(X_train)\n",
    "X_test = scaler.transform(X_test)"
   ]
  },
  {
   "cell_type": "code",
   "execution_count": 3,
   "id": "dca149b9-1955-4c59-9d88-0a9cbe314439",
   "metadata": {},
   "outputs": [
    {
     "name": "stdout",
     "output_type": "stream",
     "text": [
      "Fitting 3 folds for each of 64 candidates, totalling 192 fits\n",
      "[CV 1/3] END activation=relu, alpha=0.01, hidden_layer_sizes=(100, 150), learning_rate_init=0.001, max_iter=500, solver=adam;, score=0.866 total time=  35.0s\n",
      "[CV 2/3] END activation=relu, alpha=0.01, hidden_layer_sizes=(100, 150), learning_rate_init=0.001, max_iter=500, solver=adam;, score=0.873 total time=  28.7s\n",
      "[CV 3/3] END activation=relu, alpha=0.01, hidden_layer_sizes=(100, 150), learning_rate_init=0.001, max_iter=500, solver=adam;, score=0.879 total time=  32.2s\n",
      "[CV 1/3] END activation=relu, alpha=0.01, hidden_layer_sizes=(100, 150), learning_rate_init=0.001, max_iter=500, solver=sgd;, score=0.898 total time=  42.3s\n",
      "[CV 2/3] END activation=relu, alpha=0.01, hidden_layer_sizes=(100, 150), learning_rate_init=0.001, max_iter=500, solver=sgd;, score=0.893 total time=  51.4s\n"
     ]
    },
    {
     "name": "stderr",
     "output_type": "stream",
     "text": [
      "C:\\Users\\Higor Longuim\\AppData\\Local\\Packages\\PythonSoftwareFoundation.Python.3.12_qbz5n2kfra8p0\\LocalCache\\local-packages\\Python312\\site-packages\\sklearn\\neural_network\\_multilayer_perceptron.py:691: ConvergenceWarning: Stochastic Optimizer: Maximum iterations (500) reached and the optimization hasn't converged yet.\n",
      "  warnings.warn(\n"
     ]
    },
    {
     "name": "stdout",
     "output_type": "stream",
     "text": [
      "[CV 3/3] END activation=relu, alpha=0.01, hidden_layer_sizes=(100, 150), learning_rate_init=0.001, max_iter=500, solver=sgd;, score=0.891 total time=  59.5s\n"
     ]
    },
    {
     "name": "stderr",
     "output_type": "stream",
     "text": [
      "C:\\Users\\Higor Longuim\\AppData\\Local\\Packages\\PythonSoftwareFoundation.Python.3.12_qbz5n2kfra8p0\\LocalCache\\local-packages\\Python312\\site-packages\\sklearn\\neural_network\\_multilayer_perceptron.py:691: ConvergenceWarning: Stochastic Optimizer: Maximum iterations (500) reached and the optimization hasn't converged yet.\n",
      "  warnings.warn(\n"
     ]
    },
    {
     "name": "stdout",
     "output_type": "stream",
     "text": [
      "[CV 1/3] END activation=relu, alpha=0.01, hidden_layer_sizes=(100, 150), learning_rate_init=0.0001, max_iter=500, solver=adam;, score=0.893 total time= 1.0min\n"
     ]
    },
    {
     "name": "stderr",
     "output_type": "stream",
     "text": [
      "C:\\Users\\Higor Longuim\\AppData\\Local\\Packages\\PythonSoftwareFoundation.Python.3.12_qbz5n2kfra8p0\\LocalCache\\local-packages\\Python312\\site-packages\\sklearn\\neural_network\\_multilayer_perceptron.py:691: ConvergenceWarning: Stochastic Optimizer: Maximum iterations (500) reached and the optimization hasn't converged yet.\n",
      "  warnings.warn(\n"
     ]
    },
    {
     "name": "stdout",
     "output_type": "stream",
     "text": [
      "[CV 2/3] END activation=relu, alpha=0.01, hidden_layer_sizes=(100, 150), learning_rate_init=0.0001, max_iter=500, solver=adam;, score=0.889 total time= 1.0min\n"
     ]
    },
    {
     "name": "stderr",
     "output_type": "stream",
     "text": [
      "C:\\Users\\Higor Longuim\\AppData\\Local\\Packages\\PythonSoftwareFoundation.Python.3.12_qbz5n2kfra8p0\\LocalCache\\local-packages\\Python312\\site-packages\\sklearn\\neural_network\\_multilayer_perceptron.py:691: ConvergenceWarning: Stochastic Optimizer: Maximum iterations (500) reached and the optimization hasn't converged yet.\n",
      "  warnings.warn(\n"
     ]
    },
    {
     "name": "stdout",
     "output_type": "stream",
     "text": [
      "[CV 3/3] END activation=relu, alpha=0.01, hidden_layer_sizes=(100, 150), learning_rate_init=0.0001, max_iter=500, solver=adam;, score=0.887 total time= 1.1min\n",
      "[CV 1/3] END activation=relu, alpha=0.01, hidden_layer_sizes=(100, 150), learning_rate_init=0.0001, max_iter=500, solver=sgd;, score=0.885 total time=  40.3s\n",
      "[CV 2/3] END activation=relu, alpha=0.01, hidden_layer_sizes=(100, 150), learning_rate_init=0.0001, max_iter=500, solver=sgd;, score=0.883 total time=  43.0s\n",
      "[CV 3/3] END activation=relu, alpha=0.01, hidden_layer_sizes=(100, 150), learning_rate_init=0.0001, max_iter=500, solver=sgd;, score=0.877 total time=  41.1s\n",
      "[CV 1/3] END activation=relu, alpha=0.01, hidden_layer_sizes=(50, 100), learning_rate_init=0.001, max_iter=500, solver=adam;, score=0.869 total time=  17.3s\n",
      "[CV 2/3] END activation=relu, alpha=0.01, hidden_layer_sizes=(50, 100), learning_rate_init=0.001, max_iter=500, solver=adam;, score=0.875 total time=  13.1s\n",
      "[CV 3/3] END activation=relu, alpha=0.01, hidden_layer_sizes=(50, 100), learning_rate_init=0.001, max_iter=500, solver=adam;, score=0.877 total time=  17.7s\n",
      "[CV 1/3] END activation=relu, alpha=0.01, hidden_layer_sizes=(50, 100), learning_rate_init=0.001, max_iter=500, solver=sgd;, score=0.899 total time=   9.4s\n",
      "[CV 2/3] END activation=relu, alpha=0.01, hidden_layer_sizes=(50, 100), learning_rate_init=0.001, max_iter=500, solver=sgd;, score=0.897 total time=  15.7s\n",
      "[CV 3/3] END activation=relu, alpha=0.01, hidden_layer_sizes=(50, 100), learning_rate_init=0.001, max_iter=500, solver=sgd;, score=0.891 total time=  10.9s\n"
     ]
    },
    {
     "name": "stderr",
     "output_type": "stream",
     "text": [
      "C:\\Users\\Higor Longuim\\AppData\\Local\\Packages\\PythonSoftwareFoundation.Python.3.12_qbz5n2kfra8p0\\LocalCache\\local-packages\\Python312\\site-packages\\sklearn\\neural_network\\_multilayer_perceptron.py:691: ConvergenceWarning: Stochastic Optimizer: Maximum iterations (500) reached and the optimization hasn't converged yet.\n",
      "  warnings.warn(\n"
     ]
    },
    {
     "name": "stdout",
     "output_type": "stream",
     "text": [
      "[CV 1/3] END activation=relu, alpha=0.01, hidden_layer_sizes=(50, 100), learning_rate_init=0.0001, max_iter=500, solver=adam;, score=0.900 total time=  17.6s\n"
     ]
    },
    {
     "name": "stderr",
     "output_type": "stream",
     "text": [
      "C:\\Users\\Higor Longuim\\AppData\\Local\\Packages\\PythonSoftwareFoundation.Python.3.12_qbz5n2kfra8p0\\LocalCache\\local-packages\\Python312\\site-packages\\sklearn\\neural_network\\_multilayer_perceptron.py:691: ConvergenceWarning: Stochastic Optimizer: Maximum iterations (500) reached and the optimization hasn't converged yet.\n",
      "  warnings.warn(\n"
     ]
    },
    {
     "name": "stdout",
     "output_type": "stream",
     "text": [
      "[CV 2/3] END activation=relu, alpha=0.01, hidden_layer_sizes=(50, 100), learning_rate_init=0.0001, max_iter=500, solver=adam;, score=0.898 total time=  16.3s\n"
     ]
    },
    {
     "name": "stderr",
     "output_type": "stream",
     "text": [
      "C:\\Users\\Higor Longuim\\AppData\\Local\\Packages\\PythonSoftwareFoundation.Python.3.12_qbz5n2kfra8p0\\LocalCache\\local-packages\\Python312\\site-packages\\sklearn\\neural_network\\_multilayer_perceptron.py:691: ConvergenceWarning: Stochastic Optimizer: Maximum iterations (500) reached and the optimization hasn't converged yet.\n",
      "  warnings.warn(\n"
     ]
    },
    {
     "name": "stdout",
     "output_type": "stream",
     "text": [
      "[CV 3/3] END activation=relu, alpha=0.01, hidden_layer_sizes=(50, 100), learning_rate_init=0.0001, max_iter=500, solver=adam;, score=0.890 total time=  16.7s\n",
      "[CV 1/3] END activation=relu, alpha=0.01, hidden_layer_sizes=(50, 100), learning_rate_init=0.0001, max_iter=500, solver=sgd;, score=0.881 total time=  11.6s\n",
      "[CV 2/3] END activation=relu, alpha=0.01, hidden_layer_sizes=(50, 100), learning_rate_init=0.0001, max_iter=500, solver=sgd;, score=0.881 total time=  11.5s\n",
      "[CV 3/3] END activation=relu, alpha=0.01, hidden_layer_sizes=(50, 100), learning_rate_init=0.0001, max_iter=500, solver=sgd;, score=0.877 total time=  16.1s\n",
      "[CV 1/3] END activation=relu, alpha=0.001, hidden_layer_sizes=(100, 150), learning_rate_init=0.001, max_iter=500, solver=adam;, score=0.876 total time=  34.3s\n",
      "[CV 2/3] END activation=relu, alpha=0.001, hidden_layer_sizes=(100, 150), learning_rate_init=0.001, max_iter=500, solver=adam;, score=0.866 total time=  32.2s\n",
      "[CV 3/3] END activation=relu, alpha=0.001, hidden_layer_sizes=(100, 150), learning_rate_init=0.001, max_iter=500, solver=adam;, score=0.867 total time=  30.9s\n",
      "[CV 1/3] END activation=relu, alpha=0.001, hidden_layer_sizes=(100, 150), learning_rate_init=0.001, max_iter=500, solver=sgd;, score=0.901 total time=  42.2s\n",
      "[CV 2/3] END activation=relu, alpha=0.001, hidden_layer_sizes=(100, 150), learning_rate_init=0.001, max_iter=500, solver=sgd;, score=0.894 total time=  44.0s\n",
      "[CV 3/3] END activation=relu, alpha=0.001, hidden_layer_sizes=(100, 150), learning_rate_init=0.001, max_iter=500, solver=sgd;, score=0.892 total time=  43.5s\n"
     ]
    },
    {
     "name": "stderr",
     "output_type": "stream",
     "text": [
      "C:\\Users\\Higor Longuim\\AppData\\Local\\Packages\\PythonSoftwareFoundation.Python.3.12_qbz5n2kfra8p0\\LocalCache\\local-packages\\Python312\\site-packages\\sklearn\\neural_network\\_multilayer_perceptron.py:691: ConvergenceWarning: Stochastic Optimizer: Maximum iterations (500) reached and the optimization hasn't converged yet.\n",
      "  warnings.warn(\n"
     ]
    },
    {
     "name": "stdout",
     "output_type": "stream",
     "text": [
      "[CV 1/3] END activation=relu, alpha=0.001, hidden_layer_sizes=(100, 150), learning_rate_init=0.0001, max_iter=500, solver=adam;, score=0.890 total time= 1.0min\n"
     ]
    },
    {
     "name": "stderr",
     "output_type": "stream",
     "text": [
      "C:\\Users\\Higor Longuim\\AppData\\Local\\Packages\\PythonSoftwareFoundation.Python.3.12_qbz5n2kfra8p0\\LocalCache\\local-packages\\Python312\\site-packages\\sklearn\\neural_network\\_multilayer_perceptron.py:691: ConvergenceWarning: Stochastic Optimizer: Maximum iterations (500) reached and the optimization hasn't converged yet.\n",
      "  warnings.warn(\n"
     ]
    },
    {
     "name": "stdout",
     "output_type": "stream",
     "text": [
      "[CV 2/3] END activation=relu, alpha=0.001, hidden_layer_sizes=(100, 150), learning_rate_init=0.0001, max_iter=500, solver=adam;, score=0.889 total time= 1.0min\n"
     ]
    },
    {
     "name": "stderr",
     "output_type": "stream",
     "text": [
      "C:\\Users\\Higor Longuim\\AppData\\Local\\Packages\\PythonSoftwareFoundation.Python.3.12_qbz5n2kfra8p0\\LocalCache\\local-packages\\Python312\\site-packages\\sklearn\\neural_network\\_multilayer_perceptron.py:691: ConvergenceWarning: Stochastic Optimizer: Maximum iterations (500) reached and the optimization hasn't converged yet.\n",
      "  warnings.warn(\n"
     ]
    },
    {
     "name": "stdout",
     "output_type": "stream",
     "text": [
      "[CV 3/3] END activation=relu, alpha=0.001, hidden_layer_sizes=(100, 150), learning_rate_init=0.0001, max_iter=500, solver=adam;, score=0.887 total time= 1.0min\n",
      "[CV 1/3] END activation=relu, alpha=0.001, hidden_layer_sizes=(100, 150), learning_rate_init=0.0001, max_iter=500, solver=sgd;, score=0.883 total time=  42.1s\n",
      "[CV 2/3] END activation=relu, alpha=0.001, hidden_layer_sizes=(100, 150), learning_rate_init=0.0001, max_iter=500, solver=sgd;, score=0.880 total time=  38.9s\n",
      "[CV 3/3] END activation=relu, alpha=0.001, hidden_layer_sizes=(100, 150), learning_rate_init=0.0001, max_iter=500, solver=sgd;, score=0.878 total time=  36.6s\n",
      "[CV 1/3] END activation=relu, alpha=0.001, hidden_layer_sizes=(50, 100), learning_rate_init=0.001, max_iter=500, solver=adam;, score=0.878 total time=  15.8s\n",
      "[CV 2/3] END activation=relu, alpha=0.001, hidden_layer_sizes=(50, 100), learning_rate_init=0.001, max_iter=500, solver=adam;, score=0.868 total time=  16.6s\n",
      "[CV 3/3] END activation=relu, alpha=0.001, hidden_layer_sizes=(50, 100), learning_rate_init=0.001, max_iter=500, solver=adam;, score=0.871 total time=  15.2s\n",
      "[CV 1/3] END activation=relu, alpha=0.001, hidden_layer_sizes=(50, 100), learning_rate_init=0.001, max_iter=500, solver=sgd;, score=0.894 total time=  12.9s\n",
      "[CV 2/3] END activation=relu, alpha=0.001, hidden_layer_sizes=(50, 100), learning_rate_init=0.001, max_iter=500, solver=sgd;, score=0.896 total time=  12.0s\n",
      "[CV 3/3] END activation=relu, alpha=0.001, hidden_layer_sizes=(50, 100), learning_rate_init=0.001, max_iter=500, solver=sgd;, score=0.887 total time=   9.5s\n"
     ]
    },
    {
     "name": "stderr",
     "output_type": "stream",
     "text": [
      "C:\\Users\\Higor Longuim\\AppData\\Local\\Packages\\PythonSoftwareFoundation.Python.3.12_qbz5n2kfra8p0\\LocalCache\\local-packages\\Python312\\site-packages\\sklearn\\neural_network\\_multilayer_perceptron.py:691: ConvergenceWarning: Stochastic Optimizer: Maximum iterations (500) reached and the optimization hasn't converged yet.\n",
      "  warnings.warn(\n"
     ]
    },
    {
     "name": "stdout",
     "output_type": "stream",
     "text": [
      "[CV 1/3] END activation=relu, alpha=0.001, hidden_layer_sizes=(50, 100), learning_rate_init=0.0001, max_iter=500, solver=adam;, score=0.897 total time=  17.5s\n"
     ]
    },
    {
     "name": "stderr",
     "output_type": "stream",
     "text": [
      "C:\\Users\\Higor Longuim\\AppData\\Local\\Packages\\PythonSoftwareFoundation.Python.3.12_qbz5n2kfra8p0\\LocalCache\\local-packages\\Python312\\site-packages\\sklearn\\neural_network\\_multilayer_perceptron.py:691: ConvergenceWarning: Stochastic Optimizer: Maximum iterations (500) reached and the optimization hasn't converged yet.\n",
      "  warnings.warn(\n"
     ]
    },
    {
     "name": "stdout",
     "output_type": "stream",
     "text": [
      "[CV 2/3] END activation=relu, alpha=0.001, hidden_layer_sizes=(50, 100), learning_rate_init=0.0001, max_iter=500, solver=adam;, score=0.892 total time=  18.4s\n"
     ]
    },
    {
     "name": "stderr",
     "output_type": "stream",
     "text": [
      "C:\\Users\\Higor Longuim\\AppData\\Local\\Packages\\PythonSoftwareFoundation.Python.3.12_qbz5n2kfra8p0\\LocalCache\\local-packages\\Python312\\site-packages\\sklearn\\neural_network\\_multilayer_perceptron.py:691: ConvergenceWarning: Stochastic Optimizer: Maximum iterations (500) reached and the optimization hasn't converged yet.\n",
      "  warnings.warn(\n"
     ]
    },
    {
     "name": "stdout",
     "output_type": "stream",
     "text": [
      "[CV 3/3] END activation=relu, alpha=0.001, hidden_layer_sizes=(50, 100), learning_rate_init=0.0001, max_iter=500, solver=adam;, score=0.889 total time=  16.6s\n",
      "[CV 1/3] END activation=relu, alpha=0.001, hidden_layer_sizes=(50, 100), learning_rate_init=0.0001, max_iter=500, solver=sgd;, score=0.883 total time=  11.5s\n",
      "[CV 2/3] END activation=relu, alpha=0.001, hidden_layer_sizes=(50, 100), learning_rate_init=0.0001, max_iter=500, solver=sgd;, score=0.882 total time=  11.3s\n",
      "[CV 3/3] END activation=relu, alpha=0.001, hidden_layer_sizes=(50, 100), learning_rate_init=0.0001, max_iter=500, solver=sgd;, score=0.875 total time=  12.9s\n",
      "[CV 1/3] END activation=tanh, alpha=0.01, hidden_layer_sizes=(100, 150), learning_rate_init=0.001, max_iter=500, solver=adam;, score=0.877 total time= 1.1min\n",
      "[CV 2/3] END activation=tanh, alpha=0.01, hidden_layer_sizes=(100, 150), learning_rate_init=0.001, max_iter=500, solver=adam;, score=0.873 total time= 1.0min\n",
      "[CV 3/3] END activation=tanh, alpha=0.01, hidden_layer_sizes=(100, 150), learning_rate_init=0.001, max_iter=500, solver=adam;, score=0.865 total time=  57.8s\n",
      "[CV 1/3] END activation=tanh, alpha=0.01, hidden_layer_sizes=(100, 150), learning_rate_init=0.001, max_iter=500, solver=sgd;, score=0.897 total time=  54.3s\n",
      "[CV 2/3] END activation=tanh, alpha=0.01, hidden_layer_sizes=(100, 150), learning_rate_init=0.001, max_iter=500, solver=sgd;, score=0.898 total time=  48.9s\n",
      "[CV 3/3] END activation=tanh, alpha=0.01, hidden_layer_sizes=(100, 150), learning_rate_init=0.001, max_iter=500, solver=sgd;, score=0.891 total time=  38.7s\n"
     ]
    },
    {
     "name": "stderr",
     "output_type": "stream",
     "text": [
      "C:\\Users\\Higor Longuim\\AppData\\Local\\Packages\\PythonSoftwareFoundation.Python.3.12_qbz5n2kfra8p0\\LocalCache\\local-packages\\Python312\\site-packages\\sklearn\\neural_network\\_multilayer_perceptron.py:691: ConvergenceWarning: Stochastic Optimizer: Maximum iterations (500) reached and the optimization hasn't converged yet.\n",
      "  warnings.warn(\n"
     ]
    },
    {
     "name": "stdout",
     "output_type": "stream",
     "text": [
      "[CV 1/3] END activation=tanh, alpha=0.01, hidden_layer_sizes=(100, 150), learning_rate_init=0.0001, max_iter=500, solver=adam;, score=0.901 total time= 1.1min\n"
     ]
    },
    {
     "name": "stderr",
     "output_type": "stream",
     "text": [
      "C:\\Users\\Higor Longuim\\AppData\\Local\\Packages\\PythonSoftwareFoundation.Python.3.12_qbz5n2kfra8p0\\LocalCache\\local-packages\\Python312\\site-packages\\sklearn\\neural_network\\_multilayer_perceptron.py:691: ConvergenceWarning: Stochastic Optimizer: Maximum iterations (500) reached and the optimization hasn't converged yet.\n",
      "  warnings.warn(\n"
     ]
    },
    {
     "name": "stdout",
     "output_type": "stream",
     "text": [
      "[CV 2/3] END activation=tanh, alpha=0.01, hidden_layer_sizes=(100, 150), learning_rate_init=0.0001, max_iter=500, solver=adam;, score=0.901 total time= 1.1min\n"
     ]
    },
    {
     "name": "stderr",
     "output_type": "stream",
     "text": [
      "C:\\Users\\Higor Longuim\\AppData\\Local\\Packages\\PythonSoftwareFoundation.Python.3.12_qbz5n2kfra8p0\\LocalCache\\local-packages\\Python312\\site-packages\\sklearn\\neural_network\\_multilayer_perceptron.py:691: ConvergenceWarning: Stochastic Optimizer: Maximum iterations (500) reached and the optimization hasn't converged yet.\n",
      "  warnings.warn(\n"
     ]
    },
    {
     "name": "stdout",
     "output_type": "stream",
     "text": [
      "[CV 3/3] END activation=tanh, alpha=0.01, hidden_layer_sizes=(100, 150), learning_rate_init=0.0001, max_iter=500, solver=adam;, score=0.890 total time= 1.1min\n",
      "[CV 1/3] END activation=tanh, alpha=0.01, hidden_layer_sizes=(100, 150), learning_rate_init=0.0001, max_iter=500, solver=sgd;, score=0.885 total time=  19.3s\n",
      "[CV 2/3] END activation=tanh, alpha=0.01, hidden_layer_sizes=(100, 150), learning_rate_init=0.0001, max_iter=500, solver=sgd;, score=0.887 total time=  20.8s\n",
      "[CV 3/3] END activation=tanh, alpha=0.01, hidden_layer_sizes=(100, 150), learning_rate_init=0.0001, max_iter=500, solver=sgd;, score=0.879 total time=  21.8s\n"
     ]
    },
    {
     "name": "stderr",
     "output_type": "stream",
     "text": [
      "C:\\Users\\Higor Longuim\\AppData\\Local\\Packages\\PythonSoftwareFoundation.Python.3.12_qbz5n2kfra8p0\\LocalCache\\local-packages\\Python312\\site-packages\\sklearn\\neural_network\\_multilayer_perceptron.py:691: ConvergenceWarning: Stochastic Optimizer: Maximum iterations (500) reached and the optimization hasn't converged yet.\n",
      "  warnings.warn(\n"
     ]
    },
    {
     "name": "stdout",
     "output_type": "stream",
     "text": [
      "[CV 1/3] END activation=tanh, alpha=0.01, hidden_layer_sizes=(50, 100), learning_rate_init=0.001, max_iter=500, solver=adam;, score=0.873 total time=  18.1s\n"
     ]
    },
    {
     "name": "stderr",
     "output_type": "stream",
     "text": [
      "C:\\Users\\Higor Longuim\\AppData\\Local\\Packages\\PythonSoftwareFoundation.Python.3.12_qbz5n2kfra8p0\\LocalCache\\local-packages\\Python312\\site-packages\\sklearn\\neural_network\\_multilayer_perceptron.py:691: ConvergenceWarning: Stochastic Optimizer: Maximum iterations (500) reached and the optimization hasn't converged yet.\n",
      "  warnings.warn(\n"
     ]
    },
    {
     "name": "stdout",
     "output_type": "stream",
     "text": [
      "[CV 2/3] END activation=tanh, alpha=0.01, hidden_layer_sizes=(50, 100), learning_rate_init=0.001, max_iter=500, solver=adam;, score=0.870 total time=  19.3s\n"
     ]
    },
    {
     "name": "stderr",
     "output_type": "stream",
     "text": [
      "C:\\Users\\Higor Longuim\\AppData\\Local\\Packages\\PythonSoftwareFoundation.Python.3.12_qbz5n2kfra8p0\\LocalCache\\local-packages\\Python312\\site-packages\\sklearn\\neural_network\\_multilayer_perceptron.py:691: ConvergenceWarning: Stochastic Optimizer: Maximum iterations (500) reached and the optimization hasn't converged yet.\n",
      "  warnings.warn(\n"
     ]
    },
    {
     "name": "stdout",
     "output_type": "stream",
     "text": [
      "[CV 3/3] END activation=tanh, alpha=0.01, hidden_layer_sizes=(50, 100), learning_rate_init=0.001, max_iter=500, solver=adam;, score=0.870 total time=  18.4s\n",
      "[CV 1/3] END activation=tanh, alpha=0.01, hidden_layer_sizes=(50, 100), learning_rate_init=0.001, max_iter=500, solver=sgd;, score=0.898 total time=  11.2s\n",
      "[CV 2/3] END activation=tanh, alpha=0.01, hidden_layer_sizes=(50, 100), learning_rate_init=0.001, max_iter=500, solver=sgd;, score=0.896 total time=  10.7s\n",
      "[CV 3/3] END activation=tanh, alpha=0.01, hidden_layer_sizes=(50, 100), learning_rate_init=0.001, max_iter=500, solver=sgd;, score=0.891 total time=  10.7s\n"
     ]
    },
    {
     "name": "stderr",
     "output_type": "stream",
     "text": [
      "C:\\Users\\Higor Longuim\\AppData\\Local\\Packages\\PythonSoftwareFoundation.Python.3.12_qbz5n2kfra8p0\\LocalCache\\local-packages\\Python312\\site-packages\\sklearn\\neural_network\\_multilayer_perceptron.py:691: ConvergenceWarning: Stochastic Optimizer: Maximum iterations (500) reached and the optimization hasn't converged yet.\n",
      "  warnings.warn(\n"
     ]
    },
    {
     "name": "stdout",
     "output_type": "stream",
     "text": [
      "[CV 1/3] END activation=tanh, alpha=0.01, hidden_layer_sizes=(50, 100), learning_rate_init=0.0001, max_iter=500, solver=adam;, score=0.893 total time=  17.6s\n"
     ]
    },
    {
     "name": "stderr",
     "output_type": "stream",
     "text": [
      "C:\\Users\\Higor Longuim\\AppData\\Local\\Packages\\PythonSoftwareFoundation.Python.3.12_qbz5n2kfra8p0\\LocalCache\\local-packages\\Python312\\site-packages\\sklearn\\neural_network\\_multilayer_perceptron.py:691: ConvergenceWarning: Stochastic Optimizer: Maximum iterations (500) reached and the optimization hasn't converged yet.\n",
      "  warnings.warn(\n"
     ]
    },
    {
     "name": "stdout",
     "output_type": "stream",
     "text": [
      "[CV 2/3] END activation=tanh, alpha=0.01, hidden_layer_sizes=(50, 100), learning_rate_init=0.0001, max_iter=500, solver=adam;, score=0.897 total time=  18.9s\n"
     ]
    },
    {
     "name": "stderr",
     "output_type": "stream",
     "text": [
      "C:\\Users\\Higor Longuim\\AppData\\Local\\Packages\\PythonSoftwareFoundation.Python.3.12_qbz5n2kfra8p0\\LocalCache\\local-packages\\Python312\\site-packages\\sklearn\\neural_network\\_multilayer_perceptron.py:691: ConvergenceWarning: Stochastic Optimizer: Maximum iterations (500) reached and the optimization hasn't converged yet.\n",
      "  warnings.warn(\n"
     ]
    },
    {
     "name": "stdout",
     "output_type": "stream",
     "text": [
      "[CV 3/3] END activation=tanh, alpha=0.01, hidden_layer_sizes=(50, 100), learning_rate_init=0.0001, max_iter=500, solver=adam;, score=0.891 total time=  18.1s\n",
      "[CV 1/3] END activation=tanh, alpha=0.01, hidden_layer_sizes=(50, 100), learning_rate_init=0.0001, max_iter=500, solver=sgd;, score=0.884 total time=   7.4s\n",
      "[CV 2/3] END activation=tanh, alpha=0.01, hidden_layer_sizes=(50, 100), learning_rate_init=0.0001, max_iter=500, solver=sgd;, score=0.887 total time=   7.1s\n",
      "[CV 3/3] END activation=tanh, alpha=0.01, hidden_layer_sizes=(50, 100), learning_rate_init=0.0001, max_iter=500, solver=sgd;, score=0.881 total time=   7.3s\n",
      "[CV 1/3] END activation=tanh, alpha=0.001, hidden_layer_sizes=(100, 150), learning_rate_init=0.001, max_iter=500, solver=adam;, score=0.877 total time=  56.7s\n",
      "[CV 2/3] END activation=tanh, alpha=0.001, hidden_layer_sizes=(100, 150), learning_rate_init=0.001, max_iter=500, solver=adam;, score=0.868 total time=  56.8s\n",
      "[CV 3/3] END activation=tanh, alpha=0.001, hidden_layer_sizes=(100, 150), learning_rate_init=0.001, max_iter=500, solver=adam;, score=0.870 total time=  54.6s\n",
      "[CV 1/3] END activation=tanh, alpha=0.001, hidden_layer_sizes=(100, 150), learning_rate_init=0.001, max_iter=500, solver=sgd;, score=0.898 total time=  43.7s\n",
      "[CV 2/3] END activation=tanh, alpha=0.001, hidden_layer_sizes=(100, 150), learning_rate_init=0.001, max_iter=500, solver=sgd;, score=0.898 total time=  43.0s\n",
      "[CV 3/3] END activation=tanh, alpha=0.001, hidden_layer_sizes=(100, 150), learning_rate_init=0.001, max_iter=500, solver=sgd;, score=0.891 total time=  34.4s\n"
     ]
    },
    {
     "name": "stderr",
     "output_type": "stream",
     "text": [
      "C:\\Users\\Higor Longuim\\AppData\\Local\\Packages\\PythonSoftwareFoundation.Python.3.12_qbz5n2kfra8p0\\LocalCache\\local-packages\\Python312\\site-packages\\sklearn\\neural_network\\_multilayer_perceptron.py:691: ConvergenceWarning: Stochastic Optimizer: Maximum iterations (500) reached and the optimization hasn't converged yet.\n",
      "  warnings.warn(\n"
     ]
    },
    {
     "name": "stdout",
     "output_type": "stream",
     "text": [
      "[CV 1/3] END activation=tanh, alpha=0.001, hidden_layer_sizes=(100, 150), learning_rate_init=0.0001, max_iter=500, solver=adam;, score=0.894 total time= 1.1min\n"
     ]
    },
    {
     "name": "stderr",
     "output_type": "stream",
     "text": [
      "C:\\Users\\Higor Longuim\\AppData\\Local\\Packages\\PythonSoftwareFoundation.Python.3.12_qbz5n2kfra8p0\\LocalCache\\local-packages\\Python312\\site-packages\\sklearn\\neural_network\\_multilayer_perceptron.py:691: ConvergenceWarning: Stochastic Optimizer: Maximum iterations (500) reached and the optimization hasn't converged yet.\n",
      "  warnings.warn(\n"
     ]
    },
    {
     "name": "stdout",
     "output_type": "stream",
     "text": [
      "[CV 2/3] END activation=tanh, alpha=0.001, hidden_layer_sizes=(100, 150), learning_rate_init=0.0001, max_iter=500, solver=adam;, score=0.894 total time= 1.1min\n"
     ]
    },
    {
     "name": "stderr",
     "output_type": "stream",
     "text": [
      "C:\\Users\\Higor Longuim\\AppData\\Local\\Packages\\PythonSoftwareFoundation.Python.3.12_qbz5n2kfra8p0\\LocalCache\\local-packages\\Python312\\site-packages\\sklearn\\neural_network\\_multilayer_perceptron.py:691: ConvergenceWarning: Stochastic Optimizer: Maximum iterations (500) reached and the optimization hasn't converged yet.\n",
      "  warnings.warn(\n"
     ]
    },
    {
     "name": "stdout",
     "output_type": "stream",
     "text": [
      "[CV 3/3] END activation=tanh, alpha=0.001, hidden_layer_sizes=(100, 150), learning_rate_init=0.0001, max_iter=500, solver=adam;, score=0.890 total time= 1.1min\n",
      "[CV 1/3] END activation=tanh, alpha=0.001, hidden_layer_sizes=(100, 150), learning_rate_init=0.0001, max_iter=500, solver=sgd;, score=0.886 total time=  20.3s\n",
      "[CV 2/3] END activation=tanh, alpha=0.001, hidden_layer_sizes=(100, 150), learning_rate_init=0.0001, max_iter=500, solver=sgd;, score=0.887 total time=  21.0s\n",
      "[CV 3/3] END activation=tanh, alpha=0.001, hidden_layer_sizes=(100, 150), learning_rate_init=0.0001, max_iter=500, solver=sgd;, score=0.880 total time=  21.8s\n"
     ]
    },
    {
     "name": "stderr",
     "output_type": "stream",
     "text": [
      "C:\\Users\\Higor Longuim\\AppData\\Local\\Packages\\PythonSoftwareFoundation.Python.3.12_qbz5n2kfra8p0\\LocalCache\\local-packages\\Python312\\site-packages\\sklearn\\neural_network\\_multilayer_perceptron.py:691: ConvergenceWarning: Stochastic Optimizer: Maximum iterations (500) reached and the optimization hasn't converged yet.\n",
      "  warnings.warn(\n"
     ]
    },
    {
     "name": "stdout",
     "output_type": "stream",
     "text": [
      "[CV 1/3] END activation=tanh, alpha=0.001, hidden_layer_sizes=(50, 100), learning_rate_init=0.001, max_iter=500, solver=adam;, score=0.876 total time=  16.7s\n"
     ]
    },
    {
     "name": "stderr",
     "output_type": "stream",
     "text": [
      "C:\\Users\\Higor Longuim\\AppData\\Local\\Packages\\PythonSoftwareFoundation.Python.3.12_qbz5n2kfra8p0\\LocalCache\\local-packages\\Python312\\site-packages\\sklearn\\neural_network\\_multilayer_perceptron.py:691: ConvergenceWarning: Stochastic Optimizer: Maximum iterations (500) reached and the optimization hasn't converged yet.\n",
      "  warnings.warn(\n"
     ]
    },
    {
     "name": "stdout",
     "output_type": "stream",
     "text": [
      "[CV 2/3] END activation=tanh, alpha=0.001, hidden_layer_sizes=(50, 100), learning_rate_init=0.001, max_iter=500, solver=adam;, score=0.869 total time=  17.4s\n"
     ]
    },
    {
     "name": "stderr",
     "output_type": "stream",
     "text": [
      "C:\\Users\\Higor Longuim\\AppData\\Local\\Packages\\PythonSoftwareFoundation.Python.3.12_qbz5n2kfra8p0\\LocalCache\\local-packages\\Python312\\site-packages\\sklearn\\neural_network\\_multilayer_perceptron.py:691: ConvergenceWarning: Stochastic Optimizer: Maximum iterations (500) reached and the optimization hasn't converged yet.\n",
      "  warnings.warn(\n"
     ]
    },
    {
     "name": "stdout",
     "output_type": "stream",
     "text": [
      "[CV 3/3] END activation=tanh, alpha=0.001, hidden_layer_sizes=(50, 100), learning_rate_init=0.001, max_iter=500, solver=adam;, score=0.871 total time=  16.5s\n",
      "[CV 1/3] END activation=tanh, alpha=0.001, hidden_layer_sizes=(50, 100), learning_rate_init=0.001, max_iter=500, solver=sgd;, score=0.901 total time=  10.8s\n",
      "[CV 2/3] END activation=tanh, alpha=0.001, hidden_layer_sizes=(50, 100), learning_rate_init=0.001, max_iter=500, solver=sgd;, score=0.897 total time=   9.9s\n",
      "[CV 3/3] END activation=tanh, alpha=0.001, hidden_layer_sizes=(50, 100), learning_rate_init=0.001, max_iter=500, solver=sgd;, score=0.890 total time=   9.5s\n"
     ]
    },
    {
     "name": "stderr",
     "output_type": "stream",
     "text": [
      "C:\\Users\\Higor Longuim\\AppData\\Local\\Packages\\PythonSoftwareFoundation.Python.3.12_qbz5n2kfra8p0\\LocalCache\\local-packages\\Python312\\site-packages\\sklearn\\neural_network\\_multilayer_perceptron.py:691: ConvergenceWarning: Stochastic Optimizer: Maximum iterations (500) reached and the optimization hasn't converged yet.\n",
      "  warnings.warn(\n"
     ]
    },
    {
     "name": "stdout",
     "output_type": "stream",
     "text": [
      "[CV 1/3] END activation=tanh, alpha=0.001, hidden_layer_sizes=(50, 100), learning_rate_init=0.0001, max_iter=500, solver=adam;, score=0.899 total time=  19.0s\n"
     ]
    },
    {
     "name": "stderr",
     "output_type": "stream",
     "text": [
      "C:\\Users\\Higor Longuim\\AppData\\Local\\Packages\\PythonSoftwareFoundation.Python.3.12_qbz5n2kfra8p0\\LocalCache\\local-packages\\Python312\\site-packages\\sklearn\\neural_network\\_multilayer_perceptron.py:691: ConvergenceWarning: Stochastic Optimizer: Maximum iterations (500) reached and the optimization hasn't converged yet.\n",
      "  warnings.warn(\n"
     ]
    },
    {
     "name": "stdout",
     "output_type": "stream",
     "text": [
      "[CV 2/3] END activation=tanh, alpha=0.001, hidden_layer_sizes=(50, 100), learning_rate_init=0.0001, max_iter=500, solver=adam;, score=0.898 total time=  19.3s\n"
     ]
    },
    {
     "name": "stderr",
     "output_type": "stream",
     "text": [
      "C:\\Users\\Higor Longuim\\AppData\\Local\\Packages\\PythonSoftwareFoundation.Python.3.12_qbz5n2kfra8p0\\LocalCache\\local-packages\\Python312\\site-packages\\sklearn\\neural_network\\_multilayer_perceptron.py:691: ConvergenceWarning: Stochastic Optimizer: Maximum iterations (500) reached and the optimization hasn't converged yet.\n",
      "  warnings.warn(\n"
     ]
    },
    {
     "name": "stdout",
     "output_type": "stream",
     "text": [
      "[CV 3/3] END activation=tanh, alpha=0.001, hidden_layer_sizes=(50, 100), learning_rate_init=0.0001, max_iter=500, solver=adam;, score=0.889 total time=  18.0s\n",
      "[CV 1/3] END activation=tanh, alpha=0.001, hidden_layer_sizes=(50, 100), learning_rate_init=0.0001, max_iter=500, solver=sgd;, score=0.884 total time=   8.0s\n",
      "[CV 2/3] END activation=tanh, alpha=0.001, hidden_layer_sizes=(50, 100), learning_rate_init=0.0001, max_iter=500, solver=sgd;, score=0.886 total time=   7.2s\n",
      "[CV 3/3] END activation=tanh, alpha=0.001, hidden_layer_sizes=(50, 100), learning_rate_init=0.0001, max_iter=500, solver=sgd;, score=0.880 total time=   7.7s\n",
      "[CV 1/3] END activation=logistic, alpha=0.01, hidden_layer_sizes=(100, 150), learning_rate_init=0.001, max_iter=500, solver=adam;, score=0.901 total time= 1.4min\n",
      "[CV 2/3] END activation=logistic, alpha=0.01, hidden_layer_sizes=(100, 150), learning_rate_init=0.001, max_iter=500, solver=adam;, score=0.897 total time= 1.4min\n",
      "[CV 3/3] END activation=logistic, alpha=0.01, hidden_layer_sizes=(100, 150), learning_rate_init=0.001, max_iter=500, solver=adam;, score=0.891 total time= 1.6min\n",
      "[CV 1/3] END activation=logistic, alpha=0.01, hidden_layer_sizes=(100, 150), learning_rate_init=0.001, max_iter=500, solver=sgd;, score=0.845 total time=   7.2s\n",
      "[CV 2/3] END activation=logistic, alpha=0.01, hidden_layer_sizes=(100, 150), learning_rate_init=0.001, max_iter=500, solver=sgd;, score=0.845 total time=   7.0s\n",
      "[CV 3/3] END activation=logistic, alpha=0.01, hidden_layer_sizes=(100, 150), learning_rate_init=0.001, max_iter=500, solver=sgd;, score=0.879 total time= 3.8min\n",
      "[CV 1/3] END activation=logistic, alpha=0.01, hidden_layer_sizes=(100, 150), learning_rate_init=0.0001, max_iter=500, solver=adam;, score=0.891 total time= 1.3min\n",
      "[CV 2/3] END activation=logistic, alpha=0.01, hidden_layer_sizes=(100, 150), learning_rate_init=0.0001, max_iter=500, solver=adam;, score=0.893 total time= 3.8min\n",
      "[CV 3/3] END activation=logistic, alpha=0.01, hidden_layer_sizes=(100, 150), learning_rate_init=0.0001, max_iter=500, solver=adam;, score=0.889 total time= 2.5min\n",
      "[CV 1/3] END activation=logistic, alpha=0.01, hidden_layer_sizes=(100, 150), learning_rate_init=0.0001, max_iter=500, solver=sgd;, score=0.845 total time=  13.0s\n",
      "[CV 2/3] END activation=logistic, alpha=0.01, hidden_layer_sizes=(100, 150), learning_rate_init=0.0001, max_iter=500, solver=sgd;, score=0.845 total time=  12.7s\n",
      "[CV 3/3] END activation=logistic, alpha=0.01, hidden_layer_sizes=(100, 150), learning_rate_init=0.0001, max_iter=500, solver=sgd;, score=0.845 total time=  13.4s\n",
      "[CV 1/3] END activation=logistic, alpha=0.01, hidden_layer_sizes=(50, 100), learning_rate_init=0.001, max_iter=500, solver=adam;, score=0.900 total time=  43.3s\n"
     ]
    },
    {
     "name": "stderr",
     "output_type": "stream",
     "text": [
      "C:\\Users\\Higor Longuim\\AppData\\Local\\Packages\\PythonSoftwareFoundation.Python.3.12_qbz5n2kfra8p0\\LocalCache\\local-packages\\Python312\\site-packages\\sklearn\\neural_network\\_multilayer_perceptron.py:691: ConvergenceWarning: Stochastic Optimizer: Maximum iterations (500) reached and the optimization hasn't converged yet.\n",
      "  warnings.warn(\n"
     ]
    },
    {
     "name": "stdout",
     "output_type": "stream",
     "text": [
      "[CV 2/3] END activation=logistic, alpha=0.01, hidden_layer_sizes=(50, 100), learning_rate_init=0.001, max_iter=500, solver=adam;, score=0.888 total time= 1.5min\n"
     ]
    },
    {
     "name": "stderr",
     "output_type": "stream",
     "text": [
      "C:\\Users\\Higor Longuim\\AppData\\Local\\Packages\\PythonSoftwareFoundation.Python.3.12_qbz5n2kfra8p0\\LocalCache\\local-packages\\Python312\\site-packages\\sklearn\\neural_network\\_multilayer_perceptron.py:691: ConvergenceWarning: Stochastic Optimizer: Maximum iterations (500) reached and the optimization hasn't converged yet.\n",
      "  warnings.warn(\n"
     ]
    },
    {
     "name": "stdout",
     "output_type": "stream",
     "text": [
      "[CV 3/3] END activation=logistic, alpha=0.01, hidden_layer_sizes=(50, 100), learning_rate_init=0.001, max_iter=500, solver=adam;, score=0.890 total time= 1.7min\n",
      "[CV 1/3] END activation=logistic, alpha=0.01, hidden_layer_sizes=(50, 100), learning_rate_init=0.001, max_iter=500, solver=sgd;, score=0.845 total time=   3.4s\n",
      "[CV 2/3] END activation=logistic, alpha=0.01, hidden_layer_sizes=(50, 100), learning_rate_init=0.001, max_iter=500, solver=sgd;, score=0.845 total time=   4.9s\n",
      "[CV 3/3] END activation=logistic, alpha=0.01, hidden_layer_sizes=(50, 100), learning_rate_init=0.001, max_iter=500, solver=sgd;, score=0.845 total time=   3.5s\n",
      "[CV 1/3] END activation=logistic, alpha=0.01, hidden_layer_sizes=(50, 100), learning_rate_init=0.0001, max_iter=500, solver=adam;, score=0.893 total time= 1.2min\n",
      "[CV 2/3] END activation=logistic, alpha=0.01, hidden_layer_sizes=(50, 100), learning_rate_init=0.0001, max_iter=500, solver=adam;, score=0.894 total time=  59.4s\n",
      "[CV 3/3] END activation=logistic, alpha=0.01, hidden_layer_sizes=(50, 100), learning_rate_init=0.0001, max_iter=500, solver=adam;, score=0.887 total time=  49.3s\n",
      "[CV 1/3] END activation=logistic, alpha=0.01, hidden_layer_sizes=(50, 100), learning_rate_init=0.0001, max_iter=500, solver=sgd;, score=0.845 total time=   6.2s\n",
      "[CV 2/3] END activation=logistic, alpha=0.01, hidden_layer_sizes=(50, 100), learning_rate_init=0.0001, max_iter=500, solver=sgd;, score=0.845 total time=   6.4s\n",
      "[CV 3/3] END activation=logistic, alpha=0.01, hidden_layer_sizes=(50, 100), learning_rate_init=0.0001, max_iter=500, solver=sgd;, score=0.845 total time=   6.4s\n",
      "[CV 1/3] END activation=logistic, alpha=0.001, hidden_layer_sizes=(100, 150), learning_rate_init=0.001, max_iter=500, solver=adam;, score=0.898 total time= 3.0min\n"
     ]
    },
    {
     "name": "stderr",
     "output_type": "stream",
     "text": [
      "C:\\Users\\Higor Longuim\\AppData\\Local\\Packages\\PythonSoftwareFoundation.Python.3.12_qbz5n2kfra8p0\\LocalCache\\local-packages\\Python312\\site-packages\\sklearn\\neural_network\\_multilayer_perceptron.py:691: ConvergenceWarning: Stochastic Optimizer: Maximum iterations (500) reached and the optimization hasn't converged yet.\n",
      "  warnings.warn(\n"
     ]
    },
    {
     "name": "stdout",
     "output_type": "stream",
     "text": [
      "[CV 2/3] END activation=logistic, alpha=0.001, hidden_layer_sizes=(100, 150), learning_rate_init=0.001, max_iter=500, solver=adam;, score=0.888 total time= 2.3min\n"
     ]
    },
    {
     "name": "stderr",
     "output_type": "stream",
     "text": [
      "C:\\Users\\Higor Longuim\\AppData\\Local\\Packages\\PythonSoftwareFoundation.Python.3.12_qbz5n2kfra8p0\\LocalCache\\local-packages\\Python312\\site-packages\\sklearn\\neural_network\\_multilayer_perceptron.py:691: ConvergenceWarning: Stochastic Optimizer: Maximum iterations (500) reached and the optimization hasn't converged yet.\n",
      "  warnings.warn(\n"
     ]
    },
    {
     "name": "stdout",
     "output_type": "stream",
     "text": [
      "[CV 3/3] END activation=logistic, alpha=0.001, hidden_layer_sizes=(100, 150), learning_rate_init=0.001, max_iter=500, solver=adam;, score=0.885 total time= 2.3min\n",
      "[CV 1/3] END activation=logistic, alpha=0.001, hidden_layer_sizes=(100, 150), learning_rate_init=0.001, max_iter=500, solver=sgd;, score=0.845 total time=  16.1s\n",
      "[CV 2/3] END activation=logistic, alpha=0.001, hidden_layer_sizes=(100, 150), learning_rate_init=0.001, max_iter=500, solver=sgd;, score=0.845 total time=   4.7s\n"
     ]
    },
    {
     "name": "stderr",
     "output_type": "stream",
     "text": [
      "C:\\Users\\Higor Longuim\\AppData\\Local\\Packages\\PythonSoftwareFoundation.Python.3.12_qbz5n2kfra8p0\\LocalCache\\local-packages\\Python312\\site-packages\\sklearn\\neural_network\\_multilayer_perceptron.py:691: ConvergenceWarning: Stochastic Optimizer: Maximum iterations (500) reached and the optimization hasn't converged yet.\n",
      "  warnings.warn(\n"
     ]
    },
    {
     "name": "stdout",
     "output_type": "stream",
     "text": [
      "[CV 3/3] END activation=logistic, alpha=0.001, hidden_layer_sizes=(100, 150), learning_rate_init=0.001, max_iter=500, solver=sgd;, score=0.879 total time= 2.4min\n"
     ]
    },
    {
     "name": "stderr",
     "output_type": "stream",
     "text": [
      "C:\\Users\\Higor Longuim\\AppData\\Local\\Packages\\PythonSoftwareFoundation.Python.3.12_qbz5n2kfra8p0\\LocalCache\\local-packages\\Python312\\site-packages\\sklearn\\neural_network\\_multilayer_perceptron.py:691: ConvergenceWarning: Stochastic Optimizer: Maximum iterations (500) reached and the optimization hasn't converged yet.\n",
      "  warnings.warn(\n"
     ]
    },
    {
     "name": "stdout",
     "output_type": "stream",
     "text": [
      "[CV 1/3] END activation=logistic, alpha=0.001, hidden_layer_sizes=(100, 150), learning_rate_init=0.0001, max_iter=500, solver=adam;, score=0.897 total time=338.0min\n"
     ]
    },
    {
     "name": "stderr",
     "output_type": "stream",
     "text": [
      "C:\\Users\\Higor Longuim\\AppData\\Local\\Packages\\PythonSoftwareFoundation.Python.3.12_qbz5n2kfra8p0\\LocalCache\\local-packages\\Python312\\site-packages\\sklearn\\neural_network\\_multilayer_perceptron.py:691: ConvergenceWarning: Stochastic Optimizer: Maximum iterations (500) reached and the optimization hasn't converged yet.\n",
      "  warnings.warn(\n"
     ]
    },
    {
     "name": "stdout",
     "output_type": "stream",
     "text": [
      "[CV 2/3] END activation=logistic, alpha=0.001, hidden_layer_sizes=(100, 150), learning_rate_init=0.0001, max_iter=500, solver=adam;, score=0.893 total time= 2.4min\n",
      "[CV 3/3] END activation=logistic, alpha=0.001, hidden_layer_sizes=(100, 150), learning_rate_init=0.0001, max_iter=500, solver=adam;, score=0.889 total time= 1.9min\n",
      "[CV 1/3] END activation=logistic, alpha=0.001, hidden_layer_sizes=(100, 150), learning_rate_init=0.0001, max_iter=500, solver=sgd;, score=0.845 total time=   8.3s\n",
      "[CV 2/3] END activation=logistic, alpha=0.001, hidden_layer_sizes=(100, 150), learning_rate_init=0.0001, max_iter=500, solver=sgd;, score=0.845 total time=   9.1s\n",
      "[CV 3/3] END activation=logistic, alpha=0.001, hidden_layer_sizes=(100, 150), learning_rate_init=0.0001, max_iter=500, solver=sgd;, score=0.845 total time=   8.9s\n"
     ]
    },
    {
     "name": "stderr",
     "output_type": "stream",
     "text": [
      "C:\\Users\\Higor Longuim\\AppData\\Local\\Packages\\PythonSoftwareFoundation.Python.3.12_qbz5n2kfra8p0\\LocalCache\\local-packages\\Python312\\site-packages\\sklearn\\neural_network\\_multilayer_perceptron.py:691: ConvergenceWarning: Stochastic Optimizer: Maximum iterations (500) reached and the optimization hasn't converged yet.\n",
      "  warnings.warn(\n"
     ]
    },
    {
     "name": "stdout",
     "output_type": "stream",
     "text": [
      "[CV 1/3] END activation=logistic, alpha=0.001, hidden_layer_sizes=(50, 100), learning_rate_init=0.001, max_iter=500, solver=adam;, score=0.899 total time=  47.8s\n"
     ]
    },
    {
     "name": "stderr",
     "output_type": "stream",
     "text": [
      "C:\\Users\\Higor Longuim\\AppData\\Local\\Packages\\PythonSoftwareFoundation.Python.3.12_qbz5n2kfra8p0\\LocalCache\\local-packages\\Python312\\site-packages\\sklearn\\neural_network\\_multilayer_perceptron.py:691: ConvergenceWarning: Stochastic Optimizer: Maximum iterations (500) reached and the optimization hasn't converged yet.\n",
      "  warnings.warn(\n"
     ]
    },
    {
     "name": "stdout",
     "output_type": "stream",
     "text": [
      "[CV 2/3] END activation=logistic, alpha=0.001, hidden_layer_sizes=(50, 100), learning_rate_init=0.001, max_iter=500, solver=adam;, score=0.892 total time=  46.9s\n"
     ]
    },
    {
     "name": "stderr",
     "output_type": "stream",
     "text": [
      "C:\\Users\\Higor Longuim\\AppData\\Local\\Packages\\PythonSoftwareFoundation.Python.3.12_qbz5n2kfra8p0\\LocalCache\\local-packages\\Python312\\site-packages\\sklearn\\neural_network\\_multilayer_perceptron.py:691: ConvergenceWarning: Stochastic Optimizer: Maximum iterations (500) reached and the optimization hasn't converged yet.\n",
      "  warnings.warn(\n"
     ]
    },
    {
     "name": "stdout",
     "output_type": "stream",
     "text": [
      "[CV 3/3] END activation=logistic, alpha=0.001, hidden_layer_sizes=(50, 100), learning_rate_init=0.001, max_iter=500, solver=adam;, score=0.887 total time=  47.4s\n",
      "[CV 1/3] END activation=logistic, alpha=0.001, hidden_layer_sizes=(50, 100), learning_rate_init=0.001, max_iter=500, solver=sgd;, score=0.845 total time=   1.4s\n",
      "[CV 2/3] END activation=logistic, alpha=0.001, hidden_layer_sizes=(50, 100), learning_rate_init=0.001, max_iter=500, solver=sgd;, score=0.845 total time=   1.5s\n"
     ]
    },
    {
     "name": "stderr",
     "output_type": "stream",
     "text": [
      "C:\\Users\\Higor Longuim\\AppData\\Local\\Packages\\PythonSoftwareFoundation.Python.3.12_qbz5n2kfra8p0\\LocalCache\\local-packages\\Python312\\site-packages\\sklearn\\neural_network\\_multilayer_perceptron.py:691: ConvergenceWarning: Stochastic Optimizer: Maximum iterations (500) reached and the optimization hasn't converged yet.\n",
      "  warnings.warn(\n"
     ]
    },
    {
     "name": "stdout",
     "output_type": "stream",
     "text": [
      "[CV 3/3] END activation=logistic, alpha=0.001, hidden_layer_sizes=(50, 100), learning_rate_init=0.001, max_iter=500, solver=sgd;, score=0.879 total time=  55.6s\n",
      "[CV 1/3] END activation=logistic, alpha=0.001, hidden_layer_sizes=(50, 100), learning_rate_init=0.0001, max_iter=500, solver=adam;, score=0.894 total time=  40.4s\n",
      "[CV 2/3] END activation=logistic, alpha=0.001, hidden_layer_sizes=(50, 100), learning_rate_init=0.0001, max_iter=500, solver=adam;, score=0.894 total time=  37.5s\n",
      "[CV 3/3] END activation=logistic, alpha=0.001, hidden_layer_sizes=(50, 100), learning_rate_init=0.0001, max_iter=500, solver=adam;, score=0.889 total time=  40.1s\n",
      "[CV 1/3] END activation=logistic, alpha=0.001, hidden_layer_sizes=(50, 100), learning_rate_init=0.0001, max_iter=500, solver=sgd;, score=0.845 total time=   3.5s\n",
      "[CV 2/3] END activation=logistic, alpha=0.001, hidden_layer_sizes=(50, 100), learning_rate_init=0.0001, max_iter=500, solver=sgd;, score=0.845 total time=   3.8s\n",
      "[CV 3/3] END activation=logistic, alpha=0.001, hidden_layer_sizes=(50, 100), learning_rate_init=0.0001, max_iter=500, solver=sgd;, score=0.845 total time=   3.6s\n",
      "[CV 1/3] END activation=identity, alpha=0.01, hidden_layer_sizes=(100, 150), learning_rate_init=0.001, max_iter=500, solver=adam;, score=0.889 total time=   3.3s\n",
      "[CV 2/3] END activation=identity, alpha=0.01, hidden_layer_sizes=(100, 150), learning_rate_init=0.001, max_iter=500, solver=adam;, score=0.890 total time=   1.9s\n",
      "[CV 3/3] END activation=identity, alpha=0.01, hidden_layer_sizes=(100, 150), learning_rate_init=0.001, max_iter=500, solver=adam;, score=0.879 total time=   5.9s\n",
      "[CV 1/3] END activation=identity, alpha=0.01, hidden_layer_sizes=(100, 150), learning_rate_init=0.001, max_iter=500, solver=sgd;, score=0.887 total time=   3.7s\n",
      "[CV 2/3] END activation=identity, alpha=0.01, hidden_layer_sizes=(100, 150), learning_rate_init=0.001, max_iter=500, solver=sgd;, score=0.887 total time=   2.2s\n",
      "[CV 3/3] END activation=identity, alpha=0.01, hidden_layer_sizes=(100, 150), learning_rate_init=0.001, max_iter=500, solver=sgd;, score=0.879 total time=   4.6s\n",
      "[CV 1/3] END activation=identity, alpha=0.01, hidden_layer_sizes=(100, 150), learning_rate_init=0.0001, max_iter=500, solver=adam;, score=0.887 total time=   2.7s\n",
      "[CV 2/3] END activation=identity, alpha=0.01, hidden_layer_sizes=(100, 150), learning_rate_init=0.0001, max_iter=500, solver=adam;, score=0.888 total time=   3.8s\n",
      "[CV 3/3] END activation=identity, alpha=0.01, hidden_layer_sizes=(100, 150), learning_rate_init=0.0001, max_iter=500, solver=adam;, score=0.879 total time=   3.4s\n",
      "[CV 1/3] END activation=identity, alpha=0.01, hidden_layer_sizes=(100, 150), learning_rate_init=0.0001, max_iter=500, solver=sgd;, score=0.883 total time=   9.8s\n",
      "[CV 2/3] END activation=identity, alpha=0.01, hidden_layer_sizes=(100, 150), learning_rate_init=0.0001, max_iter=500, solver=sgd;, score=0.883 total time=   9.0s\n",
      "[CV 3/3] END activation=identity, alpha=0.01, hidden_layer_sizes=(100, 150), learning_rate_init=0.0001, max_iter=500, solver=sgd;, score=0.879 total time=   7.1s\n",
      "[CV 1/3] END activation=identity, alpha=0.01, hidden_layer_sizes=(50, 100), learning_rate_init=0.001, max_iter=500, solver=adam;, score=0.889 total time=   0.6s\n",
      "[CV 2/3] END activation=identity, alpha=0.01, hidden_layer_sizes=(50, 100), learning_rate_init=0.001, max_iter=500, solver=adam;, score=0.888 total time=   0.4s\n",
      "[CV 3/3] END activation=identity, alpha=0.01, hidden_layer_sizes=(50, 100), learning_rate_init=0.001, max_iter=500, solver=adam;, score=0.880 total time=   0.8s\n",
      "[CV 1/3] END activation=identity, alpha=0.01, hidden_layer_sizes=(50, 100), learning_rate_init=0.001, max_iter=500, solver=sgd;, score=0.887 total time=   0.8s\n",
      "[CV 2/3] END activation=identity, alpha=0.01, hidden_layer_sizes=(50, 100), learning_rate_init=0.001, max_iter=500, solver=sgd;, score=0.887 total time=   0.7s\n",
      "[CV 3/3] END activation=identity, alpha=0.01, hidden_layer_sizes=(50, 100), learning_rate_init=0.001, max_iter=500, solver=sgd;, score=0.879 total time=   0.8s\n",
      "[CV 1/3] END activation=identity, alpha=0.01, hidden_layer_sizes=(50, 100), learning_rate_init=0.0001, max_iter=500, solver=adam;, score=0.887 total time=   1.5s\n",
      "[CV 2/3] END activation=identity, alpha=0.01, hidden_layer_sizes=(50, 100), learning_rate_init=0.0001, max_iter=500, solver=adam;, score=0.889 total time=   1.0s\n",
      "[CV 3/3] END activation=identity, alpha=0.01, hidden_layer_sizes=(50, 100), learning_rate_init=0.0001, max_iter=500, solver=adam;, score=0.880 total time=   1.2s\n",
      "[CV 1/3] END activation=identity, alpha=0.01, hidden_layer_sizes=(50, 100), learning_rate_init=0.0001, max_iter=500, solver=sgd;, score=0.884 total time=   3.0s\n",
      "[CV 2/3] END activation=identity, alpha=0.01, hidden_layer_sizes=(50, 100), learning_rate_init=0.0001, max_iter=500, solver=sgd;, score=0.881 total time=   2.8s\n",
      "[CV 3/3] END activation=identity, alpha=0.01, hidden_layer_sizes=(50, 100), learning_rate_init=0.0001, max_iter=500, solver=sgd;, score=0.877 total time=   3.3s\n",
      "[CV 1/3] END activation=identity, alpha=0.001, hidden_layer_sizes=(100, 150), learning_rate_init=0.001, max_iter=500, solver=adam;, score=0.886 total time=   1.3s\n",
      "[CV 2/3] END activation=identity, alpha=0.001, hidden_layer_sizes=(100, 150), learning_rate_init=0.001, max_iter=500, solver=adam;, score=0.887 total time=   5.8s\n",
      "[CV 3/3] END activation=identity, alpha=0.001, hidden_layer_sizes=(100, 150), learning_rate_init=0.001, max_iter=500, solver=adam;, score=0.878 total time=   2.5s\n",
      "[CV 1/3] END activation=identity, alpha=0.001, hidden_layer_sizes=(100, 150), learning_rate_init=0.001, max_iter=500, solver=sgd;, score=0.887 total time=   2.9s\n",
      "[CV 2/3] END activation=identity, alpha=0.001, hidden_layer_sizes=(100, 150), learning_rate_init=0.001, max_iter=500, solver=sgd;, score=0.887 total time=   3.6s\n",
      "[CV 3/3] END activation=identity, alpha=0.001, hidden_layer_sizes=(100, 150), learning_rate_init=0.001, max_iter=500, solver=sgd;, score=0.880 total time=   2.6s\n",
      "[CV 1/3] END activation=identity, alpha=0.001, hidden_layer_sizes=(100, 150), learning_rate_init=0.0001, max_iter=500, solver=adam;, score=0.888 total time=   3.3s\n",
      "[CV 2/3] END activation=identity, alpha=0.001, hidden_layer_sizes=(100, 150), learning_rate_init=0.0001, max_iter=500, solver=adam;, score=0.888 total time=   2.5s\n",
      "[CV 3/3] END activation=identity, alpha=0.001, hidden_layer_sizes=(100, 150), learning_rate_init=0.0001, max_iter=500, solver=adam;, score=0.879 total time=   3.2s\n",
      "[CV 1/3] END activation=identity, alpha=0.001, hidden_layer_sizes=(100, 150), learning_rate_init=0.0001, max_iter=500, solver=sgd;, score=0.884 total time=  10.3s\n",
      "[CV 2/3] END activation=identity, alpha=0.001, hidden_layer_sizes=(100, 150), learning_rate_init=0.0001, max_iter=500, solver=sgd;, score=0.884 total time=   7.0s\n",
      "[CV 3/3] END activation=identity, alpha=0.001, hidden_layer_sizes=(100, 150), learning_rate_init=0.0001, max_iter=500, solver=sgd;, score=0.879 total time=   9.0s\n",
      "[CV 1/3] END activation=identity, alpha=0.001, hidden_layer_sizes=(50, 100), learning_rate_init=0.001, max_iter=500, solver=adam;, score=0.887 total time=   0.3s\n",
      "[CV 2/3] END activation=identity, alpha=0.001, hidden_layer_sizes=(50, 100), learning_rate_init=0.001, max_iter=500, solver=adam;, score=0.889 total time=   0.4s\n",
      "[CV 3/3] END activation=identity, alpha=0.001, hidden_layer_sizes=(50, 100), learning_rate_init=0.001, max_iter=500, solver=adam;, score=0.879 total time=   0.3s\n",
      "[CV 1/3] END activation=identity, alpha=0.001, hidden_layer_sizes=(50, 100), learning_rate_init=0.001, max_iter=500, solver=sgd;, score=0.887 total time=   0.7s\n",
      "[CV 2/3] END activation=identity, alpha=0.001, hidden_layer_sizes=(50, 100), learning_rate_init=0.001, max_iter=500, solver=sgd;, score=0.888 total time=   0.6s\n",
      "[CV 3/3] END activation=identity, alpha=0.001, hidden_layer_sizes=(50, 100), learning_rate_init=0.001, max_iter=500, solver=sgd;, score=0.878 total time=   0.7s\n",
      "[CV 1/3] END activation=identity, alpha=0.001, hidden_layer_sizes=(50, 100), learning_rate_init=0.0001, max_iter=500, solver=adam;, score=0.887 total time=   1.0s\n",
      "[CV 2/3] END activation=identity, alpha=0.001, hidden_layer_sizes=(50, 100), learning_rate_init=0.0001, max_iter=500, solver=adam;, score=0.887 total time=   1.0s\n",
      "[CV 3/3] END activation=identity, alpha=0.001, hidden_layer_sizes=(50, 100), learning_rate_init=0.0001, max_iter=500, solver=adam;, score=0.880 total time=   1.2s\n",
      "[CV 1/3] END activation=identity, alpha=0.001, hidden_layer_sizes=(50, 100), learning_rate_init=0.0001, max_iter=500, solver=sgd;, score=0.885 total time=   3.4s\n",
      "[CV 2/3] END activation=identity, alpha=0.001, hidden_layer_sizes=(50, 100), learning_rate_init=0.0001, max_iter=500, solver=sgd;, score=0.884 total time=   2.9s\n",
      "[CV 3/3] END activation=identity, alpha=0.001, hidden_layer_sizes=(50, 100), learning_rate_init=0.0001, max_iter=500, solver=sgd;, score=0.878 total time=   2.8s\n",
      "Best parameters:\n",
      " {'activation': 'tanh', 'alpha': 0.01, 'hidden_layer_sizes': (100, 150), 'learning_rate_init': 0.0001, 'max_iter': 500, 'solver': 'adam'}\n"
     ]
    },
    {
     "name": "stderr",
     "output_type": "stream",
     "text": [
      "C:\\Users\\Higor Longuim\\AppData\\Local\\Packages\\PythonSoftwareFoundation.Python.3.12_qbz5n2kfra8p0\\LocalCache\\local-packages\\Python312\\site-packages\\sklearn\\neural_network\\_multilayer_perceptron.py:691: ConvergenceWarning: Stochastic Optimizer: Maximum iterations (500) reached and the optimization hasn't converged yet.\n",
      "  warnings.warn(\n"
     ]
    }
   ],
   "source": [
    "#definição e configuração do MLP e hiperparametros\n",
    "\n",
    "mlp = MLPClassifier()\n",
    "params = {\n",
    "    'hidden_layer_sizes': [(100, 150),(50,100)],\n",
    "    'activation': ['relu','tanh','logistic', 'identity'],\n",
    "    'learning_rate_init': [0.001,0.0001],\n",
    "    'alpha': [0.01,0.001],\n",
    "    'solver': ['adam', 'sgd'],\n",
    "    'max_iter': [500]\n",
    "}\n",
    "gs_mlp = GridSearchCV(mlp, params, cv = 3, verbose = 3,scoring = 'accuracy')\n",
    "\n",
    "gs_mlp.fit(X_train, y_train)\n",
    "print(\"Best parameters:\\n\", gs_mlp.best_params_)"
   ]
  },
  {
   "cell_type": "code",
   "execution_count": 10,
   "id": "189f9cc7-a227-4aca-9921-c65004d1c460",
   "metadata": {},
   "outputs": [
    {
     "name": "stdout",
     "output_type": "stream",
     "text": [
      "Iteration 1, loss = 0.68032185\n",
      "Iteration 2, loss = 0.55033878\n",
      "Iteration 3, loss = 0.46270457\n",
      "Iteration 4, loss = 0.40300894\n",
      "Iteration 5, loss = 0.36309361\n",
      "Iteration 6, loss = 0.33717980\n",
      "Iteration 7, loss = 0.32040589\n",
      "Iteration 8, loss = 0.30943722\n",
      "Iteration 9, loss = 0.30245416\n",
      "Iteration 10, loss = 0.29779294\n",
      "Iteration 11, loss = 0.29470410\n",
      "Iteration 12, loss = 0.29237966\n",
      "Iteration 13, loss = 0.29089822\n",
      "Iteration 14, loss = 0.28958631\n",
      "Iteration 15, loss = 0.28884086\n",
      "Iteration 16, loss = 0.28803411\n",
      "Iteration 17, loss = 0.28748627\n",
      "Iteration 18, loss = 0.28692480\n",
      "Iteration 19, loss = 0.28636211\n",
      "Iteration 20, loss = 0.28601977\n",
      "Iteration 21, loss = 0.28561021\n",
      "Iteration 22, loss = 0.28518342\n",
      "Iteration 23, loss = 0.28485459\n",
      "Iteration 24, loss = 0.28444071\n",
      "Iteration 25, loss = 0.28408134\n",
      "Iteration 26, loss = 0.28375021\n",
      "Iteration 27, loss = 0.28335136\n",
      "Iteration 28, loss = 0.28289903\n",
      "Iteration 29, loss = 0.28245531\n",
      "Iteration 30, loss = 0.28215202\n",
      "Iteration 31, loss = 0.28180877\n",
      "Iteration 32, loss = 0.28135432\n",
      "Iteration 33, loss = 0.28084002\n",
      "Iteration 34, loss = 0.28049750\n",
      "Iteration 35, loss = 0.28004074\n",
      "Iteration 36, loss = 0.27961694\n",
      "Iteration 37, loss = 0.27914068\n",
      "Iteration 38, loss = 0.27867156\n",
      "Iteration 39, loss = 0.27823792\n",
      "Iteration 40, loss = 0.27777904\n",
      "Iteration 41, loss = 0.27733141\n",
      "Iteration 42, loss = 0.27681663\n",
      "Iteration 43, loss = 0.27639871\n",
      "Iteration 44, loss = 0.27585005\n",
      "Iteration 45, loss = 0.27528935\n",
      "Iteration 46, loss = 0.27475422\n",
      "Iteration 47, loss = 0.27429941\n",
      "Iteration 48, loss = 0.27368498\n",
      "Iteration 49, loss = 0.27325077\n",
      "Iteration 50, loss = 0.27260420\n",
      "Iteration 51, loss = 0.27199109\n",
      "Iteration 52, loss = 0.27155632\n",
      "Iteration 53, loss = 0.27098227\n",
      "Iteration 54, loss = 0.27035731\n",
      "Iteration 55, loss = 0.26982380\n",
      "Iteration 56, loss = 0.26927878\n",
      "Iteration 57, loss = 0.26864120\n",
      "Iteration 58, loss = 0.26804316\n",
      "Iteration 59, loss = 0.26760039\n",
      "Iteration 60, loss = 0.26704354\n",
      "Iteration 61, loss = 0.26633816\n",
      "Iteration 62, loss = 0.26578257\n",
      "Iteration 63, loss = 0.26526260\n",
      "Iteration 64, loss = 0.26468073\n",
      "Iteration 65, loss = 0.26413400\n",
      "Iteration 66, loss = 0.26359814\n",
      "Iteration 67, loss = 0.26307040\n",
      "Iteration 68, loss = 0.26246689\n",
      "Iteration 69, loss = 0.26197366\n",
      "Iteration 70, loss = 0.26156365\n",
      "Iteration 71, loss = 0.26088902\n",
      "Iteration 72, loss = 0.26051557\n",
      "Iteration 73, loss = 0.25990456\n",
      "Iteration 74, loss = 0.25956076\n",
      "Iteration 75, loss = 0.25903610\n",
      "Iteration 76, loss = 0.25855392\n",
      "Iteration 77, loss = 0.25803018\n",
      "Iteration 78, loss = 0.25756047\n",
      "Iteration 79, loss = 0.25727405\n",
      "Iteration 80, loss = 0.25698016\n",
      "Iteration 81, loss = 0.25642723\n",
      "Iteration 82, loss = 0.25591036\n",
      "Iteration 83, loss = 0.25556744\n",
      "Iteration 84, loss = 0.25521838\n",
      "Iteration 85, loss = 0.25499882\n",
      "Iteration 86, loss = 0.25455185\n",
      "Iteration 87, loss = 0.25406013\n",
      "Iteration 88, loss = 0.25377075\n",
      "Iteration 89, loss = 0.25349575\n",
      "Iteration 90, loss = 0.25302120\n",
      "Iteration 91, loss = 0.25285750\n",
      "Iteration 92, loss = 0.25254378\n",
      "Iteration 93, loss = 0.25222628\n",
      "Iteration 94, loss = 0.25197973\n",
      "Iteration 95, loss = 0.25152086\n",
      "Iteration 96, loss = 0.25126275\n",
      "Iteration 97, loss = 0.25105400\n",
      "Iteration 98, loss = 0.25069909\n",
      "Iteration 99, loss = 0.25046179\n",
      "Iteration 100, loss = 0.25019547\n",
      "Iteration 101, loss = 0.25006069\n",
      "Iteration 102, loss = 0.24976663\n",
      "Iteration 103, loss = 0.24952861\n",
      "Iteration 104, loss = 0.24943059\n",
      "Iteration 105, loss = 0.24906836\n",
      "Iteration 106, loss = 0.24878933\n",
      "Iteration 107, loss = 0.24872030\n",
      "Iteration 108, loss = 0.24837316\n",
      "Iteration 109, loss = 0.24821119\n",
      "Iteration 110, loss = 0.24795413\n",
      "Iteration 111, loss = 0.24782413\n",
      "Iteration 112, loss = 0.24757273\n",
      "Iteration 113, loss = 0.24746513\n",
      "Iteration 114, loss = 0.24712664\n",
      "Iteration 115, loss = 0.24694190\n",
      "Iteration 116, loss = 0.24681427\n",
      "Iteration 117, loss = 0.24656916\n",
      "Iteration 118, loss = 0.24641394\n",
      "Iteration 119, loss = 0.24632591\n",
      "Iteration 120, loss = 0.24611160\n",
      "Iteration 121, loss = 0.24593752\n",
      "Iteration 122, loss = 0.24573280\n",
      "Iteration 123, loss = 0.24550286\n",
      "Iteration 124, loss = 0.24547252\n",
      "Iteration 125, loss = 0.24520885\n",
      "Iteration 126, loss = 0.24505987\n",
      "Iteration 127, loss = 0.24490323\n",
      "Iteration 128, loss = 0.24473572\n",
      "Iteration 129, loss = 0.24450721\n",
      "Iteration 130, loss = 0.24442385\n",
      "Iteration 131, loss = 0.24435734\n",
      "Iteration 132, loss = 0.24426349\n",
      "Iteration 133, loss = 0.24387750\n",
      "Iteration 134, loss = 0.24377715\n",
      "Iteration 135, loss = 0.24366931\n",
      "Iteration 136, loss = 0.24366597\n",
      "Iteration 137, loss = 0.24338277\n",
      "Iteration 138, loss = 0.24332392\n",
      "Iteration 139, loss = 0.24310940\n",
      "Iteration 140, loss = 0.24292955\n",
      "Iteration 141, loss = 0.24279265\n",
      "Iteration 142, loss = 0.24265975\n",
      "Iteration 143, loss = 0.24267026\n",
      "Iteration 144, loss = 0.24241441\n",
      "Iteration 145, loss = 0.24228979\n",
      "Iteration 146, loss = 0.24210472\n",
      "Iteration 147, loss = 0.24201272\n",
      "Iteration 148, loss = 0.24189800\n",
      "Iteration 149, loss = 0.24181835\n",
      "Iteration 150, loss = 0.24157832\n",
      "Iteration 151, loss = 0.24142525\n",
      "Iteration 152, loss = 0.24136909\n",
      "Iteration 153, loss = 0.24117670\n",
      "Iteration 154, loss = 0.24102625\n",
      "Iteration 155, loss = 0.24095935\n",
      "Iteration 156, loss = 0.24091051\n",
      "Iteration 157, loss = 0.24077514\n",
      "Iteration 158, loss = 0.24075804\n",
      "Iteration 159, loss = 0.24049139\n",
      "Iteration 160, loss = 0.24044606\n",
      "Iteration 161, loss = 0.24026127\n",
      "Iteration 162, loss = 0.24013087\n",
      "Iteration 163, loss = 0.24001488\n",
      "Iteration 164, loss = 0.23983409\n",
      "Iteration 165, loss = 0.23978593\n",
      "Iteration 166, loss = 0.23964856\n",
      "Iteration 167, loss = 0.23959085\n",
      "Iteration 168, loss = 0.23936645\n",
      "Iteration 169, loss = 0.23923732\n",
      "Iteration 170, loss = 0.23921134\n",
      "Iteration 171, loss = 0.23896356\n",
      "Iteration 172, loss = 0.23888582\n",
      "Iteration 173, loss = 0.23894038\n",
      "Iteration 174, loss = 0.23870100\n",
      "Iteration 175, loss = 0.23846770\n",
      "Iteration 176, loss = 0.23845193\n",
      "Iteration 177, loss = 0.23825683\n",
      "Iteration 178, loss = 0.23824384\n",
      "Iteration 179, loss = 0.23818891\n",
      "Iteration 180, loss = 0.23805734\n",
      "Iteration 181, loss = 0.23788384\n",
      "Iteration 182, loss = 0.23786153\n",
      "Iteration 183, loss = 0.23794811\n",
      "Iteration 184, loss = 0.23748773\n",
      "Iteration 185, loss = 0.23749418\n",
      "Iteration 186, loss = 0.23724668\n",
      "Iteration 187, loss = 0.23724298\n",
      "Iteration 188, loss = 0.23711319\n",
      "Iteration 189, loss = 0.23725906\n",
      "Iteration 190, loss = 0.23696902\n",
      "Iteration 191, loss = 0.23683306\n",
      "Iteration 192, loss = 0.23681497\n",
      "Iteration 193, loss = 0.23666577\n",
      "Iteration 194, loss = 0.23649695\n",
      "Iteration 195, loss = 0.23641662\n",
      "Iteration 196, loss = 0.23628440\n",
      "Iteration 197, loss = 0.23620295\n",
      "Iteration 198, loss = 0.23609873\n",
      "Iteration 199, loss = 0.23596505\n",
      "Iteration 200, loss = 0.23589262\n",
      "Iteration 201, loss = 0.23594317\n",
      "Iteration 202, loss = 0.23580795\n",
      "Iteration 203, loss = 0.23562182\n",
      "Iteration 204, loss = 0.23545523\n",
      "Iteration 205, loss = 0.23541381\n",
      "Iteration 206, loss = 0.23534689\n",
      "Iteration 207, loss = 0.23518232\n",
      "Iteration 208, loss = 0.23498969\n",
      "Iteration 209, loss = 0.23495529\n",
      "Iteration 210, loss = 0.23482932\n",
      "Iteration 211, loss = 0.23468717\n",
      "Iteration 212, loss = 0.23467458\n",
      "Iteration 213, loss = 0.23470859\n",
      "Iteration 214, loss = 0.23458777\n",
      "Iteration 215, loss = 0.23435223\n",
      "Iteration 216, loss = 0.23418453\n",
      "Iteration 217, loss = 0.23413710\n",
      "Iteration 218, loss = 0.23402008\n",
      "Iteration 219, loss = 0.23398857\n",
      "Iteration 220, loss = 0.23386338\n",
      "Iteration 221, loss = 0.23375730\n",
      "Iteration 222, loss = 0.23364432\n",
      "Iteration 223, loss = 0.23351253\n",
      "Iteration 224, loss = 0.23342784\n",
      "Iteration 225, loss = 0.23344354\n",
      "Iteration 226, loss = 0.23350168\n",
      "Iteration 227, loss = 0.23314315\n",
      "Iteration 228, loss = 0.23322157\n",
      "Iteration 229, loss = 0.23320912\n",
      "Iteration 230, loss = 0.23282753\n",
      "Iteration 231, loss = 0.23273423\n",
      "Iteration 232, loss = 0.23273624\n",
      "Iteration 233, loss = 0.23264970\n",
      "Iteration 234, loss = 0.23268277\n",
      "Iteration 235, loss = 0.23235579\n",
      "Iteration 236, loss = 0.23245467\n",
      "Iteration 237, loss = 0.23216845\n",
      "Iteration 238, loss = 0.23208146\n",
      "Iteration 239, loss = 0.23202149\n",
      "Iteration 240, loss = 0.23197316\n",
      "Iteration 241, loss = 0.23191193\n",
      "Iteration 242, loss = 0.23177396\n",
      "Iteration 243, loss = 0.23164634\n",
      "Iteration 244, loss = 0.23164363\n",
      "Iteration 245, loss = 0.23152553\n",
      "Iteration 246, loss = 0.23137810\n",
      "Iteration 247, loss = 0.23128575\n",
      "Iteration 248, loss = 0.23120582\n",
      "Iteration 249, loss = 0.23104100\n",
      "Iteration 250, loss = 0.23099044\n",
      "Iteration 251, loss = 0.23084426\n",
      "Iteration 252, loss = 0.23080604\n",
      "Iteration 253, loss = 0.23068130\n",
      "Iteration 254, loss = 0.23070072\n",
      "Iteration 255, loss = 0.23049691\n",
      "Iteration 256, loss = 0.23050985\n",
      "Iteration 257, loss = 0.23031911\n",
      "Iteration 258, loss = 0.23038286\n",
      "Iteration 259, loss = 0.23004487\n",
      "Iteration 260, loss = 0.23009469\n",
      "Iteration 261, loss = 0.22992634\n",
      "Iteration 262, loss = 0.22997154\n",
      "Iteration 263, loss = 0.22977277\n",
      "Iteration 264, loss = 0.22969208\n",
      "Iteration 265, loss = 0.22965590\n",
      "Iteration 266, loss = 0.22957039\n",
      "Iteration 267, loss = 0.22955302\n",
      "Iteration 268, loss = 0.22943080\n",
      "Iteration 269, loss = 0.22936523\n",
      "Iteration 270, loss = 0.22933343\n",
      "Iteration 271, loss = 0.22928737\n",
      "Iteration 272, loss = 0.22911525\n",
      "Iteration 273, loss = 0.22903949\n",
      "Iteration 274, loss = 0.22885434\n",
      "Iteration 275, loss = 0.22875593\n",
      "Iteration 276, loss = 0.22876522\n",
      "Iteration 277, loss = 0.22855454\n",
      "Iteration 278, loss = 0.22845125\n",
      "Iteration 279, loss = 0.22850512\n",
      "Iteration 280, loss = 0.22820430\n",
      "Iteration 281, loss = 0.22833774\n",
      "Iteration 282, loss = 0.22818263\n",
      "Iteration 283, loss = 0.22828029\n",
      "Iteration 284, loss = 0.22810094\n",
      "Iteration 285, loss = 0.22794793\n",
      "Iteration 286, loss = 0.22791741\n",
      "Iteration 287, loss = 0.22782750\n",
      "Iteration 288, loss = 0.22767764\n",
      "Iteration 289, loss = 0.22756349\n",
      "Iteration 290, loss = 0.22757816\n",
      "Iteration 291, loss = 0.22744936\n",
      "Iteration 292, loss = 0.22733425\n",
      "Iteration 293, loss = 0.22742632\n",
      "Iteration 294, loss = 0.22731879\n",
      "Iteration 295, loss = 0.22714242\n",
      "Iteration 296, loss = 0.22709880\n",
      "Iteration 297, loss = 0.22698113\n",
      "Iteration 298, loss = 0.22694647\n",
      "Iteration 299, loss = 0.22682203\n",
      "Iteration 300, loss = 0.22681793\n",
      "Iteration 301, loss = 0.22663450\n",
      "Iteration 302, loss = 0.22650477\n",
      "Iteration 303, loss = 0.22647307\n",
      "Iteration 304, loss = 0.22645240\n",
      "Iteration 305, loss = 0.22629918\n",
      "Iteration 306, loss = 0.22633382\n",
      "Iteration 307, loss = 0.22619819\n",
      "Iteration 308, loss = 0.22605599\n",
      "Iteration 309, loss = 0.22608822\n",
      "Iteration 310, loss = 0.22593271\n",
      "Iteration 311, loss = 0.22591908\n",
      "Iteration 312, loss = 0.22586782\n",
      "Iteration 313, loss = 0.22581923\n",
      "Iteration 314, loss = 0.22563533\n",
      "Iteration 315, loss = 0.22564613\n",
      "Iteration 316, loss = 0.22561647\n",
      "Iteration 317, loss = 0.22548678\n",
      "Iteration 318, loss = 0.22547768\n",
      "Iteration 319, loss = 0.22525008\n",
      "Iteration 320, loss = 0.22521241\n",
      "Iteration 321, loss = 0.22520435\n",
      "Iteration 322, loss = 0.22514665\n",
      "Iteration 323, loss = 0.22496700\n",
      "Iteration 324, loss = 0.22490910\n",
      "Iteration 325, loss = 0.22478507\n",
      "Iteration 326, loss = 0.22484754\n",
      "Iteration 327, loss = 0.22458712\n",
      "Iteration 328, loss = 0.22456315\n",
      "Iteration 329, loss = 0.22454331\n",
      "Iteration 330, loss = 0.22442483\n",
      "Iteration 331, loss = 0.22461182\n",
      "Iteration 332, loss = 0.22437446\n",
      "Iteration 333, loss = 0.22420395\n",
      "Iteration 334, loss = 0.22417840\n",
      "Iteration 335, loss = 0.22417579\n",
      "Iteration 336, loss = 0.22405561\n",
      "Iteration 337, loss = 0.22406156\n",
      "Iteration 338, loss = 0.22399522\n",
      "Iteration 339, loss = 0.22389051\n",
      "Iteration 340, loss = 0.22390752\n",
      "Iteration 341, loss = 0.22362366\n",
      "Iteration 342, loss = 0.22371591\n",
      "Iteration 343, loss = 0.22353819\n",
      "Iteration 344, loss = 0.22348963\n",
      "Iteration 345, loss = 0.22335943\n",
      "Iteration 346, loss = 0.22328647\n",
      "Iteration 347, loss = 0.22327081\n",
      "Iteration 348, loss = 0.22327561\n",
      "Iteration 349, loss = 0.22314540\n",
      "Iteration 350, loss = 0.22315211\n",
      "Iteration 351, loss = 0.22305570\n",
      "Iteration 352, loss = 0.22299116\n",
      "Iteration 353, loss = 0.22293422\n",
      "Iteration 354, loss = 0.22271641\n",
      "Iteration 355, loss = 0.22272686\n",
      "Iteration 356, loss = 0.22268880\n",
      "Iteration 357, loss = 0.22261811\n",
      "Iteration 358, loss = 0.22265561\n",
      "Iteration 359, loss = 0.22246441\n",
      "Iteration 360, loss = 0.22236147\n",
      "Iteration 361, loss = 0.22235289\n",
      "Iteration 362, loss = 0.22217293\n",
      "Iteration 363, loss = 0.22220216\n",
      "Iteration 364, loss = 0.22219887\n",
      "Iteration 365, loss = 0.22204130\n",
      "Iteration 366, loss = 0.22193018\n",
      "Iteration 367, loss = 0.22194372\n",
      "Iteration 368, loss = 0.22190960\n",
      "Iteration 369, loss = 0.22179426\n",
      "Iteration 370, loss = 0.22178561\n",
      "Iteration 371, loss = 0.22171834\n",
      "Iteration 372, loss = 0.22151662\n",
      "Iteration 373, loss = 0.22147413\n",
      "Iteration 374, loss = 0.22153598\n",
      "Iteration 375, loss = 0.22133128\n",
      "Iteration 376, loss = 0.22133135\n",
      "Iteration 377, loss = 0.22124553\n",
      "Iteration 378, loss = 0.22116485\n",
      "Iteration 379, loss = 0.22111568\n",
      "Iteration 380, loss = 0.22110446\n",
      "Iteration 381, loss = 0.22088408\n",
      "Iteration 382, loss = 0.22089787\n",
      "Iteration 383, loss = 0.22086772\n",
      "Iteration 384, loss = 0.22092601\n",
      "Iteration 385, loss = 0.22097286\n",
      "Iteration 386, loss = 0.22075715\n",
      "Iteration 387, loss = 0.22048613\n",
      "Iteration 388, loss = 0.22051306\n",
      "Iteration 389, loss = 0.22063102\n",
      "Iteration 390, loss = 0.22044197\n",
      "Iteration 391, loss = 0.22039374\n",
      "Iteration 392, loss = 0.22043419\n",
      "Iteration 393, loss = 0.22029601\n",
      "Iteration 394, loss = 0.22023968\n",
      "Iteration 395, loss = 0.22015152\n",
      "Iteration 396, loss = 0.22002795\n",
      "Iteration 397, loss = 0.21999043\n",
      "Iteration 398, loss = 0.21986352\n",
      "Iteration 399, loss = 0.21986704\n",
      "Iteration 400, loss = 0.21982952\n",
      "Iteration 401, loss = 0.21977822\n",
      "Iteration 402, loss = 0.21983779\n",
      "Iteration 403, loss = 0.21957893\n",
      "Iteration 404, loss = 0.21952381\n",
      "Iteration 405, loss = 0.21955687\n",
      "Iteration 406, loss = 0.21936687\n",
      "Iteration 407, loss = 0.21940719\n",
      "Iteration 408, loss = 0.21930429\n",
      "Iteration 409, loss = 0.21927285\n",
      "Iteration 410, loss = 0.21919756\n",
      "Iteration 411, loss = 0.21908838\n",
      "Iteration 412, loss = 0.21902709\n",
      "Iteration 413, loss = 0.21901152\n",
      "Iteration 414, loss = 0.21904494\n",
      "Iteration 415, loss = 0.21891851\n",
      "Iteration 416, loss = 0.21871650\n",
      "Iteration 417, loss = 0.21860352\n",
      "Iteration 418, loss = 0.21873753\n",
      "Iteration 419, loss = 0.21863186\n",
      "Iteration 420, loss = 0.21850990\n",
      "Iteration 421, loss = 0.21868719\n",
      "Iteration 422, loss = 0.21856798\n",
      "Iteration 423, loss = 0.21843664\n",
      "Iteration 424, loss = 0.21848345\n",
      "Iteration 425, loss = 0.21814374\n",
      "Iteration 426, loss = 0.21823061\n",
      "Iteration 427, loss = 0.21822899\n",
      "Iteration 428, loss = 0.21806939\n",
      "Iteration 429, loss = 0.21800770\n",
      "Iteration 430, loss = 0.21796090\n",
      "Iteration 431, loss = 0.21784129\n",
      "Iteration 432, loss = 0.21775722\n",
      "Iteration 433, loss = 0.21775803\n",
      "Iteration 434, loss = 0.21772792\n",
      "Iteration 435, loss = 0.21756402\n",
      "Iteration 436, loss = 0.21750430\n",
      "Iteration 437, loss = 0.21764330\n",
      "Iteration 438, loss = 0.21743571\n",
      "Iteration 439, loss = 0.21734844\n",
      "Iteration 440, loss = 0.21729847\n",
      "Iteration 441, loss = 0.21734689\n",
      "Iteration 442, loss = 0.21731043\n",
      "Iteration 443, loss = 0.21712357\n",
      "Iteration 444, loss = 0.21713190\n",
      "Iteration 445, loss = 0.21703792\n",
      "Iteration 446, loss = 0.21703961\n",
      "Iteration 447, loss = 0.21685305\n",
      "Iteration 448, loss = 0.21691308\n",
      "Iteration 449, loss = 0.21680860\n",
      "Iteration 450, loss = 0.21665971\n",
      "Iteration 451, loss = 0.21656780\n",
      "Iteration 452, loss = 0.21667053\n",
      "Iteration 453, loss = 0.21663235\n",
      "Iteration 454, loss = 0.21646830\n",
      "Iteration 455, loss = 0.21655152\n",
      "Iteration 456, loss = 0.21631790\n",
      "Iteration 457, loss = 0.21631770\n",
      "Iteration 458, loss = 0.21629875\n",
      "Iteration 459, loss = 0.21617693\n",
      "Iteration 460, loss = 0.21608924\n",
      "Iteration 461, loss = 0.21608368\n",
      "Iteration 462, loss = 0.21593872\n",
      "Iteration 463, loss = 0.21596530\n",
      "Iteration 464, loss = 0.21580479\n",
      "Iteration 465, loss = 0.21588775\n",
      "Iteration 466, loss = 0.21596582\n",
      "Iteration 467, loss = 0.21593306\n",
      "Iteration 468, loss = 0.21565110\n",
      "Iteration 469, loss = 0.21559515\n",
      "Iteration 470, loss = 0.21563753\n",
      "Iteration 471, loss = 0.21568582\n",
      "Iteration 472, loss = 0.21535182\n",
      "Iteration 473, loss = 0.21537240\n",
      "Iteration 474, loss = 0.21525780\n",
      "Iteration 475, loss = 0.21521038\n",
      "Iteration 476, loss = 0.21524754\n",
      "Iteration 477, loss = 0.21520994\n",
      "Iteration 478, loss = 0.21508128\n",
      "Iteration 479, loss = 0.21506286\n",
      "Iteration 480, loss = 0.21497731\n",
      "Iteration 481, loss = 0.21485329\n",
      "Iteration 482, loss = 0.21497506\n",
      "Iteration 483, loss = 0.21489456\n",
      "Iteration 484, loss = 0.21470586\n",
      "Iteration 485, loss = 0.21462762\n",
      "Iteration 486, loss = 0.21475069\n",
      "Iteration 487, loss = 0.21481141\n",
      "Iteration 488, loss = 0.21458719\n",
      "Iteration 489, loss = 0.21441401\n",
      "Iteration 490, loss = 0.21442902\n",
      "Iteration 491, loss = 0.21439560\n",
      "Iteration 492, loss = 0.21427366\n",
      "Iteration 493, loss = 0.21426540\n",
      "Iteration 494, loss = 0.21438885\n",
      "Iteration 495, loss = 0.21414510\n",
      "Iteration 496, loss = 0.21400290\n",
      "Iteration 497, loss = 0.21397385\n",
      "Iteration 498, loss = 0.21411789\n",
      "Iteration 499, loss = 0.21394554\n",
      "Iteration 500, loss = 0.21382854\n",
      "Iteration 501, loss = 0.21388916\n",
      "Iteration 502, loss = 0.21370532\n",
      "Iteration 503, loss = 0.21380227\n",
      "Iteration 504, loss = 0.21363993\n",
      "Iteration 505, loss = 0.21369755\n",
      "Iteration 506, loss = 0.21344197\n",
      "Iteration 507, loss = 0.21351182\n",
      "Iteration 508, loss = 0.21336389\n",
      "Iteration 509, loss = 0.21347060\n",
      "Iteration 510, loss = 0.21342812\n",
      "Iteration 511, loss = 0.21331494\n",
      "Iteration 512, loss = 0.21315230\n",
      "Iteration 513, loss = 0.21327501\n",
      "Iteration 514, loss = 0.21310118\n",
      "Iteration 515, loss = 0.21302592\n",
      "Iteration 516, loss = 0.21301715\n",
      "Iteration 517, loss = 0.21302608\n",
      "Iteration 518, loss = 0.21267626\n",
      "Iteration 519, loss = 0.21281941\n",
      "Iteration 520, loss = 0.21287568\n",
      "Iteration 521, loss = 0.21291913\n",
      "Iteration 522, loss = 0.21273770\n",
      "Iteration 523, loss = 0.21255218\n",
      "Iteration 524, loss = 0.21268555\n",
      "Iteration 525, loss = 0.21256170\n",
      "Iteration 526, loss = 0.21240592\n",
      "Iteration 527, loss = 0.21236992\n",
      "Iteration 528, loss = 0.21226000\n",
      "Iteration 529, loss = 0.21216890\n",
      "Iteration 530, loss = 0.21223268\n",
      "Iteration 531, loss = 0.21216458\n",
      "Iteration 532, loss = 0.21213111\n",
      "Iteration 533, loss = 0.21203684\n",
      "Iteration 534, loss = 0.21197499\n",
      "Iteration 535, loss = 0.21198755\n",
      "Iteration 536, loss = 0.21191879\n",
      "Iteration 537, loss = 0.21195607\n",
      "Iteration 538, loss = 0.21178774\n",
      "Iteration 539, loss = 0.21162919\n",
      "Iteration 540, loss = 0.21180543\n",
      "Iteration 541, loss = 0.21174400\n",
      "Iteration 542, loss = 0.21171152\n",
      "Iteration 543, loss = 0.21151086\n",
      "Iteration 544, loss = 0.21149544\n",
      "Iteration 545, loss = 0.21158748\n",
      "Iteration 546, loss = 0.21152291\n",
      "Iteration 547, loss = 0.21147212\n",
      "Iteration 548, loss = 0.21124310\n",
      "Iteration 549, loss = 0.21126338\n",
      "Iteration 550, loss = 0.21111297\n",
      "Iteration 551, loss = 0.21119265\n",
      "Iteration 552, loss = 0.21102647\n",
      "Iteration 553, loss = 0.21107462\n",
      "Iteration 554, loss = 0.21097965\n",
      "Iteration 555, loss = 0.21099563\n",
      "Iteration 556, loss = 0.21100167\n",
      "Iteration 557, loss = 0.21078139\n",
      "Iteration 558, loss = 0.21069517\n",
      "Iteration 559, loss = 0.21062302\n",
      "Iteration 560, loss = 0.21068224\n",
      "Iteration 561, loss = 0.21066487\n",
      "Iteration 562, loss = 0.21055160\n",
      "Iteration 563, loss = 0.21054633\n",
      "Iteration 564, loss = 0.21041146\n",
      "Iteration 565, loss = 0.21033747\n",
      "Iteration 566, loss = 0.21041198\n",
      "Iteration 567, loss = 0.21046357\n",
      "Iteration 568, loss = 0.21037226\n",
      "Iteration 569, loss = 0.21016237\n",
      "Iteration 570, loss = 0.21012562\n",
      "Iteration 571, loss = 0.21005344\n",
      "Iteration 572, loss = 0.20997695\n",
      "Iteration 573, loss = 0.20999894\n",
      "Iteration 574, loss = 0.20989608\n",
      "Iteration 575, loss = 0.20983386\n",
      "Iteration 576, loss = 0.20986248\n",
      "Iteration 577, loss = 0.20983405\n",
      "Iteration 578, loss = 0.20965128\n",
      "Iteration 579, loss = 0.20974325\n",
      "Iteration 580, loss = 0.20967118\n",
      "Iteration 581, loss = 0.20953717\n",
      "Iteration 582, loss = 0.20947209\n",
      "Iteration 583, loss = 0.20952819\n",
      "Iteration 584, loss = 0.20958274\n",
      "Iteration 585, loss = 0.20929427\n",
      "Iteration 586, loss = 0.20922243\n",
      "Iteration 587, loss = 0.20920016\n",
      "Iteration 588, loss = 0.20957911\n",
      "Iteration 589, loss = 0.20917818\n",
      "Iteration 590, loss = 0.20922338\n",
      "Iteration 591, loss = 0.20891490\n",
      "Iteration 592, loss = 0.20904991\n",
      "Iteration 593, loss = 0.20906364\n",
      "Iteration 594, loss = 0.20889142\n",
      "Iteration 595, loss = 0.20896467\n",
      "Iteration 596, loss = 0.20880945\n",
      "Iteration 597, loss = 0.20866359\n",
      "Iteration 598, loss = 0.20873276\n",
      "Iteration 599, loss = 0.20860646\n",
      "Iteration 600, loss = 0.20889293\n"
     ]
    },
    {
     "name": "stderr",
     "output_type": "stream",
     "text": [
      "C:\\Users\\Higor Longuim\\AppData\\Local\\Packages\\PythonSoftwareFoundation.Python.3.12_qbz5n2kfra8p0\\LocalCache\\local-packages\\Python312\\site-packages\\sklearn\\neural_network\\_multilayer_perceptron.py:691: ConvergenceWarning: Stochastic Optimizer: Maximum iterations (600) reached and the optimization hasn't converged yet.\n",
      "  warnings.warn(\n"
     ]
    }
   ],
   "source": [
    "optimized_mlp = MLPClassifier(\n",
    "   hidden_layer_sizes = (50, 100),\n",
    "   activation = 'tanh',\n",
    "   alpha = 0.01,\n",
    "   learning_rate_init = 0.0001,\n",
    "   max_iter = 600,\n",
    "   solver = 'adam',\n",
    "    verbose = True\n",
    ")\n",
    "optimized_mlp.fit(X_train, y_train)\n",
    "optimized_mlp_pred = optimized_mlp.predict(X_test)"
   ]
  },
  {
   "cell_type": "code",
   "execution_count": 11,
   "id": "70cef47d-5ef1-4084-9d00-de4cc9694852",
   "metadata": {},
   "outputs": [
    {
     "name": "stdout",
     "output_type": "stream",
     "text": [
      "\n",
      "🔍 Matriz de Confusão:\n",
      "[[1974  110]\n",
      " [ 173  209]]\n",
      "\n",
      "📊 Relatório de Classificação:\n",
      "              precision    recall  f1-score   support\n",
      "\n",
      "       False       0.92      0.95      0.93      2084\n",
      "        True       0.66      0.55      0.60       382\n",
      "\n",
      "    accuracy                           0.89      2466\n",
      "   macro avg       0.79      0.75      0.76      2466\n",
      "weighted avg       0.88      0.89      0.88      2466\n",
      "\n",
      "\n",
      "✅ Acurácia: 0.8852\n"
     ]
    },
    {
     "data": {
      "image/png": "[encoded data removed]",
      "text/plain": [
       "<Figure size 640x480 with 1 Axes>"
      ]
     },
     "metadata": {},
     "output_type": "display_data"
    }
   ],
   "source": [
    "print(\"\\n🔍 Matriz de Confusão:\")\n",
    "print(confusion_matrix(y_test, optimized_mlp_pred))\n",
    "\n",
    "print(\"\\n📊 Relatório de Classificação:\")\n",
    "print(classification_report(y_test, optimized_mlp_pred))\n",
    "\n",
    "print(f\"\\n✅ Acurácia: {accuracy_score(y_test, optimized_mlp_pred):.4f}\")\n",
    "\n",
    "#Curva de perda\n",
    "plt.plot(optimized_mlp.loss_curve_)\n",
    "plt.title(\"Curva de Perda Durante o Treinamento\")\n",
    "plt.xlabel(\"Épocas\")\n",
    "plt.ylabel(\"Perda\")\n",
    "plt.grid(True)\n",
    "plt.show()"
   ]
  },
  {
   "cell_type": "markdown",
   "id": "32544e45",
   "metadata": {},
   "source": [
    "KNN"
   ]
  },
  {
   "cell_type": "code",
   "execution_count": 6,
   "id": "9f44d0bb",
   "metadata": {},
   "outputs": [
    {
     "name": "stdout",
     "output_type": "stream",
     "text": [
      "K=1 → Acurácia: 0.8423\n",
      "K=3 → Acurácia: 0.8642\n",
      "K=5 → Acurácia: 0.8678\n",
      "K=7 → Acurácia: 0.8783\n",
      "K=9 → Acurácia: 0.8792\n",
      "K=11 → Acurácia: 0.8771\n"
     ]
    },
    {
     "data": {
      "text/html": [
       "<div>\n",
       "<style scoped>\n",
       "    .dataframe tbody tr th:only-of-type {\n",
       "        vertical-align: middle;\n",
       "    }\n",
       "\n",
       "    .dataframe tbody tr th {\n",
       "        vertical-align: top;\n",
       "    }\n",
       "\n",
       "    .dataframe thead th {\n",
       "        text-align: right;\n",
       "    }\n",
       "</style>\n",
       "<table border=\"1\" class=\"dataframe\">\n",
       "  <thead>\n",
       "    <tr style=\"text-align: right;\">\n",
       "      <th></th>\n",
       "      <th>K</th>\n",
       "      <th>Acurácia</th>\n",
       "    </tr>\n",
       "  </thead>\n",
       "  <tbody>\n",
       "    <tr>\n",
       "      <th>0</th>\n",
       "      <td>9</td>\n",
       "      <td>0.879157</td>\n",
       "    </tr>\n",
       "    <tr>\n",
       "      <th>1</th>\n",
       "      <td>7</td>\n",
       "      <td>0.878345</td>\n",
       "    </tr>\n",
       "    <tr>\n",
       "      <th>2</th>\n",
       "      <td>11</td>\n",
       "      <td>0.877129</td>\n",
       "    </tr>\n",
       "    <tr>\n",
       "      <th>3</th>\n",
       "      <td>5</td>\n",
       "      <td>0.867802</td>\n",
       "    </tr>\n",
       "    <tr>\n",
       "      <th>4</th>\n",
       "      <td>3</td>\n",
       "      <td>0.864152</td>\n",
       "    </tr>\n",
       "    <tr>\n",
       "      <th>5</th>\n",
       "      <td>1</td>\n",
       "      <td>0.842255</td>\n",
       "    </tr>\n",
       "  </tbody>\n",
       "</table>\n",
       "</div>"
      ],
      "text/plain": [
       "    K  Acurácia\n",
       "0   9  0.879157\n",
       "1   7  0.878345\n",
       "2  11  0.877129\n",
       "3   5  0.867802\n",
       "4   3  0.864152\n",
       "5   1  0.842255"
      ]
     },
     "metadata": {},
     "output_type": "display_data"
    },
    {
     "data": {
      "image/png": "[encoded data removed]",
      "text/plain": [
       "<Figure size 1000x600 with 1 Axes>"
      ]
     },
     "metadata": {},
     "output_type": "display_data"
    },
    {
     "name": "stdout",
     "output_type": "stream",
     "text": [
      "\n",
      "Matriz de Confusão (K=9):\n",
      "[[2032   52]\n",
      " [ 246  136]]\n",
      "\n",
      "Relatório de Classificação:\n",
      "              precision    recall  f1-score   support\n",
      "\n",
      "       False       0.89      0.98      0.93      2084\n",
      "        True       0.72      0.36      0.48       382\n",
      "\n",
      "    accuracy                           0.88      2466\n",
      "   macro avg       0.81      0.67      0.70      2466\n",
      "weighted avg       0.87      0.88      0.86      2466\n",
      "\n",
      "\n",
      "Acurácia Final: 0.8792\n"
     ]
    }
   ],
   "source": [
    "# Separação dos dados para o KNN\n",
    "X_train_knn, X_test_knn, y_train_knn, y_test_knn = train_test_split(\n",
    "    X_encoded, y, test_size=0.2, stratify=y, random_state=42\n",
    ")\n",
    "\n",
    "# Normalização exclusiva para o KNN\n",
    "scaler_knn = StandardScaler()\n",
    "X_train_knn = scaler_knn.fit_transform(X_train_knn)\n",
    "X_test_knn = scaler_knn.transform(X_test_knn)\n",
    "\n",
    "# Teste com diferentes valores de k\n",
    "k_values = [1, 3, 5, 7, 9, 11]\n",
    "accuracies_knn = []\n",
    "\n",
    "for k in k_values:\n",
    "    knn = KNeighborsClassifier(n_neighbors=k)\n",
    "    knn.fit(X_train_knn, y_train_knn)\n",
    "    y_pred = knn.predict(X_test_knn)\n",
    "    acc = accuracy_score(y_test_knn, y_pred)\n",
    "    accuracies_knn.append(acc)\n",
    "    print(f\"K={k} → Acurácia: {acc:.4f}\")\n",
    "\n",
    "# Tabela da acurácia por valor de K\n",
    "df_knn = pd.DataFrame({'K': k_values, 'Acurácia': accuracies_knn})\n",
    "display(df_knn.sort_values(by='Acurácia', ascending=False).reset_index(drop=True))\n",
    "\n",
    "\n",
    "# Gráfico mais bonito e informativo\n",
    "plt.figure(figsize=(10, 6))\n",
    "plt.plot(df_knn['K'], df_knn['Acurácia'], marker='o', linestyle='-', color='blue')\n",
    "plt.xticks(k_values)\n",
    "plt.title(\"Acurácia do KNN por Número de Vizinhos (K)\")\n",
    "plt.xlabel(\"Número de Vizinhos (K)\")\n",
    "plt.ylabel(\"Acurácia\")\n",
    "plt.grid(True)\n",
    "plt.tight_layout()\n",
    "plt.show()\n",
    "\n",
    "\n",
    "# Avaliação final com o melhor k\n",
    "melhor_k = k_values[accuracies_knn.index(max(accuracies_knn))]\n",
    "knn_final = KNeighborsClassifier(n_neighbors=melhor_k)\n",
    "knn_final.fit(X_train_knn, y_train_knn)\n",
    "y_pred_final = knn_final.predict(X_test_knn)\n",
    "\n",
    "print(f\"\\nMatriz de Confusão (K={melhor_k}):\")\n",
    "print(confusion_matrix(y_test_knn, y_pred_final))\n",
    "\n",
    "print(\"\\nRelatório de Classificação:\")\n",
    "print(classification_report(y_test_knn, y_pred_final))\n",
    "\n",
    "print(f\"\\nAcurácia Final: {accuracy_score(y_test_knn, y_pred_final):.4f}\")"
   ]
  },
  {
   "cell_type": "markdown",
   "id": "437fa64d",
   "metadata": {},
   "source": [
    "COMPARAÇÂO MELHOR KNN E MELHOR MLP"
   ]
  },
  {
   "cell_type": "code",
   "execution_count": 7,
   "id": "1515eb53",
   "metadata": {},
   "outputs": [
    {
     "data": {
      "text/html": [
       "<div>\n",
       "<style scoped>\n",
       "    .dataframe tbody tr th:only-of-type {\n",
       "        vertical-align: middle;\n",
       "    }\n",
       "\n",
       "    .dataframe tbody tr th {\n",
       "        vertical-align: top;\n",
       "    }\n",
       "\n",
       "    .dataframe thead th {\n",
       "        text-align: right;\n",
       "    }\n",
       "</style>\n",
       "<table border=\"1\" class=\"dataframe\">\n",
       "  <thead>\n",
       "    <tr style=\"text-align: right;\">\n",
       "      <th></th>\n",
       "      <th>Modelo</th>\n",
       "      <th>Acurácia</th>\n",
       "      <th>Precisão</th>\n",
       "      <th>Recall</th>\n",
       "      <th>F1-Score</th>\n",
       "    </tr>\n",
       "  </thead>\n",
       "  <tbody>\n",
       "    <tr>\n",
       "      <th>0</th>\n",
       "      <td>KNN</td>\n",
       "      <td>0.879157</td>\n",
       "      <td>0.723404</td>\n",
       "      <td>0.356021</td>\n",
       "      <td>0.477193</td>\n",
       "    </tr>\n",
       "    <tr>\n",
       "      <th>1</th>\n",
       "      <td>MLP</td>\n",
       "      <td>0.887267</td>\n",
       "      <td>0.672185</td>\n",
       "      <td>0.531414</td>\n",
       "      <td>0.593567</td>\n",
       "    </tr>\n",
       "  </tbody>\n",
       "</table>\n",
       "</div>"
      ],
      "text/plain": [
       "  Modelo  Acurácia  Precisão    Recall  F1-Score\n",
       "0    KNN  0.879157  0.723404  0.356021  0.477193\n",
       "1    MLP  0.887267  0.672185  0.531414  0.593567"
      ]
     },
     "metadata": {},
     "output_type": "display_data"
    },
    {
     "name": "stderr",
     "output_type": "stream",
     "text": [
      "C:\\Users\\Higor Longuim\\AppData\\Local\\Temp\\ipykernel_13536\\2163635077.py:34: UserWarning: Glyph 128269 (\\N{LEFT-POINTING MAGNIFYING GLASS}) missing from font(s) DejaVu Sans.\n",
      "  plt.tight_layout()\n",
      "C:\\Users\\Higor Longuim\\AppData\\Local\\Packages\\PythonSoftwareFoundation.Python.3.12_qbz5n2kfra8p0\\LocalCache\\local-packages\\Python312\\site-packages\\IPython\\core\\pylabtools.py:170: UserWarning: Glyph 128269 (\\N{LEFT-POINTING MAGNIFYING GLASS}) missing from font(s) DejaVu Sans.\n",
      "  fig.canvas.print_figure(bytes_io, **kw)\n"
     ]
    },
    {
     "data": {
      "image/png": "[encoded data removed]",
      "text/plain": [
       "<Figure size 1000x600 with 1 Axes>"
      ]
     },
     "metadata": {},
     "output_type": "display_data"
    },
    {
     "name": "stdout",
     "output_type": "stream",
     "text": [
      "\n",
      "Melhor valor de K no KNN: 9\n",
      "\n",
      "Melhores parâmetros do MLP otimizados pelo GridSearch:\n",
      "{'hidden_layer_sizes': (50, 100), 'activation': 'tanh', 'alpha': 0.01, 'learning_rate_init': 0.0001, 'max_iter': 600, 'solver': 'adam'}\n"
     ]
    }
   ],
   "source": [
    "# Métricas do KNN\n",
    "knn_precision = precision_score(y_test_knn, y_pred_final, zero_division=0)\n",
    "knn_recall = recall_score(y_test_knn, y_pred_final, zero_division=0)\n",
    "knn_f1 = f1_score(y_test_knn, y_pred_final, zero_division=0)\n",
    "knn_accuracy = accuracy_score(y_test_knn, y_pred_final)\n",
    "\n",
    "# Métricas do MLP\n",
    "mlp_precision = precision_score(y_test, optimized_mlp_pred, zero_division=0)\n",
    "mlp_recall = recall_score(y_test, optimized_mlp_pred, zero_division=0)\n",
    "mlp_f1 = f1_score(y_test, optimized_mlp_pred, zero_division=0)\n",
    "mlp_accuracy = accuracy_score(y_test, optimized_mlp_pred)\n",
    "\n",
    "# Tabela comparativa\n",
    "df_comp = pd.DataFrame({\n",
    "    'Modelo': ['KNN', 'MLP'],\n",
    "    'Acurácia': [knn_accuracy, mlp_accuracy],\n",
    "    'Precisão': [knn_precision, mlp_precision],\n",
    "    'Recall': [knn_recall, mlp_recall],\n",
    "    'F1-Score': [knn_f1, mlp_f1]\n",
    "})\n",
    "\n",
    "# Exibindo a tabela\n",
    "display(df_comp)\n",
    "\n",
    "# Gráfico comparativo\n",
    "df_comp_plot = df_comp.set_index('Modelo')\n",
    "df_comp_plot.plot(kind='bar', figsize=(10,6), colormap='coolwarm')\n",
    "plt.title(\"🔍 Comparação de Desempenho: KNN vs MLP\")\n",
    "plt.ylabel(\"Pontuação\")\n",
    "plt.ylim(0, 1)\n",
    "plt.grid(True, axis='y')\n",
    "plt.xticks(rotation=0)\n",
    "plt.legend(loc='lower right')\n",
    "plt.tight_layout()\n",
    "plt.show()\n",
    "\n",
    "# Parâmetros usados\n",
    "print(\"\\nMelhor valor de K no KNN:\", melhor_k)\n",
    "print(\"\\nMelhores parâmetros do MLP otimizados pelo GridSearch:\")\n",
    "params = {\n",
    "    'hidden_layer_sizes': (50,100),\n",
    "    'activation': 'tanh',\n",
    "    'alpha': 0.01,\n",
    "    'learning_rate_init': 0.0001,\n",
    "    'max_iter': 600,\n",
    "    'solver': 'adam',\n",
    "}\n",
    "print(params)\n"
   ]
  },
  {
   "cell_type": "code",
   "execution_count": null,
   "id": "1e0d4c71-392a-4123-9d7d-957198e265a0",
   "metadata": {},
   "outputs": [],
   "source": []
  }
 ],
 "metadata": {
  "kernelspec": {
   "display_name": "Python 3",
   "language": "python",
   "name": "python3"
  },
  "language_info": {
   "codemirror_mode": {
    "name": "ipython",
    "version": 3
   },
   "file_extension": ".py",
   "mimetype": "text/x-python",
   "name": "python",
   "nbconvert_exporter": "python",
   "pygments_lexer": "ipython3",
   "version": "3.12.10"
  }
 },
 "nbformat": 4,
 "nbformat_minor": 5
}
